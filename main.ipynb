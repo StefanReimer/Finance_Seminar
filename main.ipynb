{
 "cells": [
  {
   "cell_type": "markdown",
   "metadata": {},
   "source": [
    "# Finance V: Research Topics in Finance, Risk- and Resource management \n",
    "## Replication of paper: ..."
   ]
  },
  {
   "cell_type": "markdown",
   "metadata": {},
   "source": [
    "<blockquote>\n",
    "    Author: Stefan Reimer <br>\n",
    "    Date: 2019-12-28 <br>\n",
    "    python version: 3.7 <br>\n",
    "</blockquote>"
   ]
  },
  {
   "cell_type": "code",
   "execution_count": 85,
   "metadata": {
    "pycharm": {
     "is_executing": false,
     "name": "#%% import needed packages\n"
    }
   },
   "outputs": [],
   "source": [
    "%reload_ext autoreload\n",
    "%autoreload 2\n",
    "\n",
    "import numpy as np\n",
    "import pandas as pd\n",
    "import datetime\n",
    "import matplotlib.pyplot as plt\n",
    "import statsmodels.api as sm\n",
    "import statsmodels.formula.api as smf\n",
    "import re\n",
    "import collections\n",
    "\n",
    "import logging\n",
    "logger = logging.getLogger()\n",
    "logger.setLevel(logging.DEBUG)\n",
    "\n",
    "# import defined functions\n",
    "from src.functions.functions import (data_import_chunkwise, convert_NAs, get_duplicates, \n",
    "                                     find_char_in_colnames, convert_date, convert_price)\n",
    "\n",
    "# set the settings for displayed dataFrames\n",
    "pd.set_option('display.max_columns', None)\n",
    "pd.set_option('display.max_rows', 100)"
   ]
  },
  {
   "cell_type": "markdown",
   "metadata": {},
   "source": [
    "# 1 Load Data"
   ]
  },
  {
   "cell_type": "code",
   "execution_count": 86,
   "metadata": {},
   "outputs": [
    {
     "name": "stderr",
     "output_type": "stream",
     "text": [
      "INFO:root:loading started...\n",
      "INFO:root:loading finished.\n"
     ]
    },
    {
     "name": "stdout",
     "output_type": "stream",
     "text": [
      "The loaded data frame has 43709 rows and 86 columns.\n"
     ]
    }
   ],
   "source": [
    "#%%\n",
    "# define path to files & load data chunkwise\n",
    "filePath = \"data/initial_data/000_sdc_full.csv\"\n",
    "\n",
    "sdc_data = data_import_chunkwise(filePath=filePath)"
   ]
  },
  {
   "cell_type": "markdown",
   "metadata": {},
   "source": [
    "# first data exploration"
   ]
  },
  {
   "cell_type": "code",
   "execution_count": 3,
   "metadata": {},
   "outputs": [],
   "source": [
    "# show first 5 rows\n",
    "#print(sdc_data.head(5))\n",
    "\n",
    "# show last 5 rows\n",
    "#print(sdc_data.tail(5))\n",
    "\n",
    "# get key statistics for data\n",
    "#print(sdc_data.describe())\n",
    "\n",
    "# show all columns names\n",
    "#print(sdc_data.columns)"
   ]
  },
  {
   "cell_type": "code",
   "execution_count": 35,
   "metadata": {},
   "outputs": [
    {
     "name": "stdout",
     "output_type": "stream",
     "text": [
      "length of neede sample (from paper): 43816\n",
      "length of given sample: 43709\n",
      "difference: 107\n"
     ]
    }
   ],
   "source": [
    "# Question: Does the sample size fit? \n",
    "# Are only North American IPOs given?\n",
    "len_paper = 43816\n",
    "len_sample = len(sdc_data)\n",
    "\n",
    "print(f'length of neede sample (from paper): {len_paper}\\n'\n",
    "      f'length of given sample: {len_sample}\\n'\n",
    "     f'difference: {len_paper-len_sample}')"
   ]
  },
  {
   "cell_type": "markdown",
   "metadata": {},
   "source": [
    "Answer: there are some IPO data missing.\n",
    "the difference of 107 samples could results from the missing year 1973 and 1974 \n",
    "\n",
    "TODO: ASK PHILIPP, WHICH DATA HAS BEEN EXTRACTED"
   ]
  },
  {
   "cell_type": "code",
   "execution_count": 36,
   "metadata": {},
   "outputs": [
    {
     "name": "stdout",
     "output_type": "stream",
     "text": [
      "0 NAs have been created. 6659 valid values are left. \n",
      "\n",
      "Counter({nan: 37050, 'No': 5110, 'Yes': 1549})\n",
      "Counter({'No': 28400, 'Yes': 15309})\n"
     ]
    }
   ],
   "source": [
    "# convert NAs in OrigIPO\n",
    "sdc_data = convert_NAs(sdc_data, 'OrigIPO')\n",
    "# print values of IPO and OrigIPO\n",
    "print(collections.Counter(sdc_data['OrigIPO']))\n",
    "print(collections.Counter(sdc_data['IPO']))"
   ]
  },
  {
   "cell_type": "code",
   "execution_count": 37,
   "metadata": {},
   "outputs": [
    {
     "name": "stdout",
     "output_type": "stream",
     "text": [
      "15268\n"
     ]
    }
   ],
   "source": [
    "# keep only IPOs\n",
    "sdc_data = sdc_data.loc[(sdc_data['IPO']=='Yes') &\n",
    "                        (sdc_data['OrigIPO']!='No'), :]\n",
    "print(len(sdc_data))\n",
    "# 16,454 should be left.\n",
    "# TODO: the difference is getting bigger; maybe made changes before the filtering?"
   ]
  },
  {
   "cell_type": "code",
   "execution_count": 8,
   "metadata": {
    "collapsed": true
   },
   "outputs": [
    {
     "name": "stderr",
     "output_type": "stream",
     "text": [
      "INFO:numexpr.utils:NumExpr defaulting to 8 threads.\n"
     ]
    },
    {
     "name": "stdout",
     "output_type": "stream",
     "text": [
      "REIT                                    0.933286\n",
      "BestEftFirmCmtBghtDl                    0.995218\n",
      "SecondaryShsFiledSumOfAllMkts           0.889611\n",
      "AmendedSecondaryShsFiledSumOfAllMkts    0.906999\n",
      "TickerSpinOffParent                     0.973209\n",
      "ManagerAgentsLawyersCode                0.997987\n",
      "DomesticSyndicateMemberCode             0.905878\n",
      "FirmName                                0.898053\n",
      "FundName                                0.898053\n",
      "RoundNumberOfInvesTors                  0.898053\n",
      "DisclosedRoundTotalmil                  0.904299\n",
      "RoundDate                               0.898053\n",
      "TotalKnownAmtInvestedInCompany000       0.905786\n",
      "SpinParExch                             0.973118\n",
      "dtype: float64\n"
     ]
    }
   ],
   "source": [
    "# Question: how many values are often missing?\n",
    "na_freq = sdc_data.isna().sum()\n",
    "na_freq = na_freq/sdc_data.shape[0]\n",
    "print(na_freq[na_freq>0.85])"
   ]
  },
  {
   "cell_type": "markdown",
   "metadata": {},
   "source": [
    "A lot of missing values in the data."
   ]
  },
  {
   "cell_type": "code",
   "execution_count": 9,
   "metadata": {},
   "outputs": [
    {
     "name": "stdout",
     "output_type": "stream",
     "text": [
      "Counter({'No': 28400, 'Yes': 15309})\n",
      "0.3502482326294356 percent of the data points finished the IPO.\n"
     ]
    }
   ],
   "source": [
    "IPO_Counter = collections.Counter(sdc_data['IPO'])\n",
    "print(IPO_Counter)\n",
    "IPO_yes_percentage = IPO_Counter['Yes']/(IPO_Counter['Yes']+IPO_Counter['No'])\n",
    "print(f\"{IPO_yes_percentage} percent of the data points finished the IPO.\")"
   ]
  },
  {
   "cell_type": "code",
   "execution_count": 10,
   "metadata": {
    "collapsed": true
   },
   "outputs": [
    {
     "name": "stdout",
     "output_type": "stream",
     "text": [
      "DealNumber                                 0.000000\n",
      "CIK                                        0.568881\n",
      "CUSIP6                                     0.000000\n",
      "CUSIP9                                     0.210464\n",
      "Issuer                                     0.000000\n",
      "FilingDate                                 0.071200\n",
      "IssueDate                                  0.000000\n",
      "IPO                                        0.000000\n",
      "OrigIPO                                    0.896140\n",
      "Type                                       0.000000\n",
      "REIT                                       0.970475\n",
      "ADR                                        0.001894\n",
      "Unit                                       0.104318\n",
      "CEF                                        0.000261\n",
      "MainSICCode                                0.000000\n",
      "Units                                      0.000261\n",
      "SpinOff                                    0.000000\n",
      "ForeignIssue                               0.000000\n",
      "TrackingStockIssue                         0.003985\n",
      "BestEftFirmCmtBghtDl                       0.998628\n",
      "OfferPrice                                 0.000000\n",
      "SharesOutstandingAfterTheOffering          0.000000\n",
      "SharesOutstandingBeforeOffering            0.759423\n",
      "SharesOfferedSumOfAllMkts                  0.000000\n",
      "SharesOfrdIncOverSoldSumOfAllMkts          0.000000\n",
      "PrimaryShsOfrdSumOfAllMkts                 0.000000\n",
      "SecondaryShsOfrdSumOfAllMkts               0.000000\n",
      "OverallotAmtOptionSumOfAllMktsMil          0.070089\n",
      "OverallotAmtSoldSumOfAllMktsmil            0.414201\n",
      "TotGlobalOverallotmentSharesSold           0.414135\n",
      "SharesFiledSumOfAllMkts                    0.425632\n",
      "PrimaryShsFiledSumOfAllMkts                0.452610\n",
      "SecondaryShsFiledSumOfAllMkts              0.952054\n",
      "AmendedShsFiledSumOfAllMkts                0.485662\n",
      "AmendedPrimaryShsFiledSumOfAllMkts         0.550722\n",
      "AmendedSecondaryShsFiledSumOfAllMkts       0.883010\n",
      "AmendMentDate                              0.300869\n",
      "AmendHistShsFiledSumOfAllMkts              0.482396\n",
      "AmendHistSecShsFiledSumOfAllMkts           0.639754\n",
      "AmendHistOverallotShsOptionSumOfAllMkts    0.568358\n",
      "TickerAtIssue                              0.042393\n",
      "TickerUltimateParents                      0.097655\n",
      "TickerCurrent                              0.266379\n",
      "TickerSpinOffParent                        0.924554\n",
      "AllManagers_x                              0.000000\n",
      "NonBookrunners                             0.279313\n",
      "AllManagersParentsCode                     0.000000\n",
      "AllMgrRoleCode                             0.000000\n",
      "Managers_x                                 0.000000\n",
      "CoManagers                                 0.334052\n",
      "LeadManager                                0.000000\n",
      "ManagerAgentsLawyersCode                   0.998498\n",
      "DomesticSyndicateMemberCode                0.838984\n",
      "Bookrunners_x                              0.000000\n",
      "BookrunnersParent                          0.000000\n",
      "VentureBacked                              0.001176\n",
      "FirmName                                   0.708929\n",
      "FundName                                   0.708929\n",
      "RoundNumberOfInvesTors                     0.708929\n",
      "DisclosedRoundTotalmil                     0.726762\n",
      "RoundDate                                  0.708929\n",
      "TotalKnownAmtInvestedInCompany000          0.731008\n",
      "AllManagers_y                              0.000000\n",
      "Bookrunners_y                              0.000000\n",
      "LeadManagersLongName                       0.000000\n",
      "LeadManagers                               0.000000\n",
      "Managers_y                                 0.000000\n",
      "CoManagersLongName                         0.304265\n",
      "State                                      0.000261\n",
      "Nation                                     0.000000\n",
      "CurrentExchangeLongDescriptio              0.105363\n",
      "AllExchangesWhereIssueWillBeListed_1       0.000000\n",
      "AllExchangesWhereIssueWillBeListed_2       0.000784\n",
      "ExchangeWhereIssuWillBeLi                  0.000000\n",
      "AllExchangesWhereIssuersStockTrades        0.000000\n",
      "FirstTwoExchangesWhereIssueWillBeListed    0.000784\n",
      "SpinParExch                                0.924293\n",
      "PrimaryExchangeWhereIssuersStockTrades     0.031093\n",
      "AmendedHighFilingPrice                     0.310602\n",
      "AmendedLowFilingPrice                      0.310471\n",
      "AmendedMiddleOfFilingPrice                 0.310340\n",
      "HighPriceOfFilingPriceRnge                 0.309165\n",
      "LowPriceOfFilingPriceRnge                  0.309165\n",
      "OriginalHighFilingPrice                    0.412372\n",
      "OriginalLowFilingPrice                     0.411915\n",
      "OriginalMiddleOfFilingPriceRange           0.411653\n",
      "dtype: float64\n"
     ]
    }
   ],
   "source": [
    "# Question: Are many missing values in the companies, that finished the IPO?\n",
    "na_freq_of_finished_ipos = sdc_data.loc[sdc_data['IPO']=='Yes'].isna().sum()\n",
    "na_freq_of_finished_ipos = na_freq_of_finished_ipos/sdc_data.loc[sdc_data['IPO']=='Yes'].shape[0]\n",
    "print(na_freq_of_finished_ipos)"
   ]
  },
  {
   "cell_type": "markdown",
   "metadata": {},
   "source": [
    "## Duplicate analysis"
   ]
  },
  {
   "cell_type": "code",
   "execution_count": 13,
   "metadata": {},
   "outputs": [
    {
     "name": "stdout",
     "output_type": "stream",
     "text": [
      "There are 22804 duplicates in Issuer.\n",
      "There are 1430 duplicates in Issuer (only fulfilled IPOs).\n",
      "There are 23050 duplicates in CUSIP6.\n",
      "There are 0 duplicated indices.\n"
     ]
    }
   ],
   "source": [
    "# get the duplicates for choosen columns\n",
    "duplicated_issuers = get_duplicates(sdc_data, 'Issuer')\n",
    "duplicated_IPO_issuers = get_duplicates(sdc_data.loc[sdc_data['IPO']=='Yes', :], 'Issuer', ' (only fulfilled IPOs)')\n",
    "duplicated_CUSIP6 = get_duplicates(sdc_data, 'CUSIP6')\n",
    "duplicated_indices = sdc_data.index.duplicated().sum()\n",
    "print(f'There are {duplicated_indices} duplicated indices.')"
   ]
  },
  {
   "cell_type": "code",
   "execution_count": 13,
   "metadata": {},
   "outputs": [],
   "source": [
    "# show number of duplicates for all columns\n",
    "#for column in sdc_data.columns.values:\n",
    "#    duplicated_issuers = get_duplicates(sdc_data, column)"
   ]
  },
  {
   "cell_type": "code",
   "execution_count": 14,
   "metadata": {
    "collapsed": true
   },
   "outputs": [
    {
     "name": "stdout",
     "output_type": "stream",
     "text": [
      "                             Issuer     CUSIP9  IPO\n",
      "6564                       AAR Corp  000361105   No\n",
      "18529                      AAR Corp  000361105   No\n",
      "15564        ABC Rail Products Corp  000752105   No\n",
      "15563        ABC Rail Products Corp  000752105   No\n",
      "14811        ABC Rail Products Corp  000752105   No\n",
      "7332                  ABM Gold Corp  000776104  Yes\n",
      "16810  ABR Information Services Inc  00077R108   No\n",
      "13867    ABT Building Products Corp  000782102   No\n",
      "17835                      ACC Corp  000794107   No\n",
      "17043                      ACC Corp  000794107   No\n",
      "24962   A C Moore Arts & Crafts Inc  00086T103   No\n",
      "13865           ACS Enterprises Inc  000872309   No\n",
      "11750           ACS Enterprises Inc  000872309   No\n",
      "22873                      ACTV Inc  00088E104   No\n",
      "22872                      ACTV Inc  00088E104   No\n",
      "12983                    ADESA Corp  000892109   No\n",
      "39955            ADMA Biologics Inc  000899104   No\n",
      "41606            ADMA Biologics Inc  000899104   No\n",
      "43131            ADMA Biologics Inc  000899104   No\n",
      "42218            ADMA Biologics Inc  000899104   No\n",
      "38924            ADMA Biologics Inc  000899104   No\n",
      "19272                      ADE Corp  00089C107   No\n",
      "12750    ACM Government Income Fund  000912105   No\n",
      "12751     ACM Government Securities  000914101   No\n",
      "15192            Tyco International  000915306   No\n",
      "18643            Tyco International  000915306   No\n",
      "12752    ACM Government Spectrum Fd  000917104   No\n",
      "14865      AER Energy Resources Inc  000944108   No\n",
      "20704         AFC Cable Systems Inc  000950105   No\n",
      "18810         AFC Cable Systems Inc  000950105   No\n",
      "15118         AFC Cable Systems Inc  000950105   No\n",
      "22615         ACT Manufacturing Inc  000973107   No\n",
      "22614         ACT Manufacturing Inc  000973107   No\n",
      "17324              ACT Networks Inc  000975102   No\n",
      "28089           AFC Enterprises Inc  00104Q107   No\n",
      "24751           AFC Enterprises Inc  00104Q107   No\n",
      "14420                     Agco Corp  001084102   No\n",
      "14419                     Agco Corp  001084102   No\n",
      "18647                     Agco Corp  001084102   No\n",
      "26467                     Agco Corp  001084102   No\n",
      "18648                     Agco Corp  001084102   No\n",
      "43388              ACM Research Inc  00108J109   No\n",
      "33809     Mellanox Technologies Ltd  001101732   No\n",
      "27007             AGL Resources Inc  001204106   No\n",
      "42855  AG Mortgage Investment Trust  001228105   No\n",
      "35529  AG Mortgage Investment Trust  001228105   No\n",
      "34201  AG Mortgage Investment Trust  001228105   No\n",
      "35020  AG Mortgage Investment Trust  001228105   No\n",
      "42401          AGNC Investment Corp  00123Q104   No\n",
      "42686          AGNC Investment Corp  00123Q104   No\n",
      "42173          AGNC Investment Corp  00123Q104   No\n",
      "41403          AGNC Investment Corp  00123Q104   No\n",
      "19711              AHL Services Inc  001296102   No\n",
      "21348              AHL Services Inc  001296102   No\n",
      "21347              AHL Services Inc  001296102   No\n",
      "23997                      AES Corp  00130H105   No\n",
      "22412                      AES Corp  00130H105   No\n",
      "19166                      AES Corp  00130H105   No\n",
      "19167                      AES Corp  00130H105   No\n",
      "22411                      AES Corp  00130H105   No\n",
      "21102                      AES Corp  00130H105   No\n",
      "39126                      AES Corp  00130H105   No\n",
      "18738                      AES Corp  00130H105   No\n",
      "21103                      AES Corp  00130H105   No\n",
      "18745                      AES Corp  00130H105   No\n",
      "21695                      AES Corp  00130H105   No\n",
      "37164                      AES Corp  00130H105   No\n",
      "21694                      AES Corp  00130H105   No\n",
      "25699                      AES Corp  00130H105   No\n",
      "19675                      AES Corp  00130H105   No\n"
     ]
    }
   ],
   "source": [
    "# get and inspect the duplicated rows\n",
    "duplicated_issuers_true = duplicated_issuers[duplicated_issuers == 1]\n",
    "duplicated_issuers_values = sdc_data.loc[sdc_data.index.isin(duplicated_issuers_true.index), :][['Issuer', 'CUSIP9', 'IPO']]\n",
    "duplicated_issuers_values = duplicated_issuers_values.sort_values('CUSIP9')\n",
    "print(duplicated_issuers_values.head(70))\n",
    "# inspect choosen duplicates\n",
    "#sdc_data.loc[sdc_data['Issuer'] == 'AMAX Inc', :]\n",
    "#sdc_data.loc[sdc_data['Issuer'] == 'ADMA Biologics Inc', :]"
   ]
  },
  {
   "cell_type": "markdown",
   "metadata": {},
   "source": [
    "# 2 Data preparation\n",
    "\n",
    "- Sort dataFrame\n",
    "- inspect groups of columns\n",
    "- convert date types\n",
    "- create additional variables"
   ]
  },
  {
   "cell_type": "code",
   "execution_count": 40,
   "metadata": {},
   "outputs": [],
   "source": [
    "# sort dataFrame\n",
    "sdc_data = sdc_data.sort_index()"
   ]
  },
  {
   "cell_type": "code",
   "execution_count": 41,
   "metadata": {},
   "outputs": [],
   "source": [
    "# find all columns which contains some date information\n",
    "date_cols = find_char_in_colnames(sdc_data, 'Date', print_bool=False)\n",
    "\n",
    "# find all columns which contains some price information\n",
    "price_cols = find_char_in_colnames(sdc_data, 'Price', print_bool=False)\n",
    "\n",
    "# find all columns which contains some share information\n",
    "share_cols = find_char_in_colnames(sdc_data, 'Share', print_bool=False)\n",
    "\n",
    "# find all columns which contains some overallotment information\n",
    "overall_cols = find_char_in_colnames(sdc_data, 'Overall', print_bool=False)\n",
    "\n",
    "# find all columns which contains some round information\n",
    "round_cols = find_char_in_colnames(sdc_data, 'Round', print_bool=False)"
   ]
  },
  {
   "cell_type": "code",
   "execution_count": 42,
   "metadata": {},
   "outputs": [
    {
     "name": "stdout",
     "output_type": "stream",
     "text": [
      "IssueDate has been converted. \n",
      "0 NAs have been created. 15268 valid values are left. \n",
      "\n",
      "FilingDate has been converted. \n",
      "0 NAs have been created. 14178 valid values are left. \n",
      "\n",
      "AmendMentDate has been converted. \n",
      "10684 NAs have been created. 0 valid values are left. \n",
      "\n",
      "RoundDate has been converted. \n",
      "4456 NAs have been created. 0 valid values are left. \n",
      "\n"
     ]
    }
   ],
   "source": [
    "# covert dates\n",
    "sdc_data = convert_date(sdc_data, 'IssueDate', format='%Y-%m-%d')\n",
    "sdc_data = convert_date(sdc_data, 'FilingDate', format='%Y-%m-%d')\n",
    "sdc_data = convert_date(sdc_data, 'AmendMentDate', format='%Y-%m-%d', errors='coerce')\n",
    "sdc_data = convert_date(sdc_data, 'RoundDate', format='%Y-%m-%d', errors='coerce')\n",
    "\n",
    "# create year variable\n",
    "sdc_data['Year'] = sdc_data['IssueDate'].dt.year"
   ]
  },
  {
   "cell_type": "code",
   "execution_count": 44,
   "metadata": {},
   "outputs": [
    {
     "name": "stdout",
     "output_type": "stream",
     "text": [
      "The data start at 1983-01-14 00:00:00 and ends at 2019-11-25 00:00:00\n"
     ]
    }
   ],
   "source": [
    "# Question: Is the data horizont enough?\n",
    "date_start = sdc_data['FilingDate'].min()\n",
    "date_end = sdc_data['FilingDate'].max()\n",
    "print(f'The data start at {date_start} and ends at {date_end}')\n",
    "\n",
    "#Answer:\n",
    "## No, data is needed from 01.01.1973 until 31.12.2016\n",
    "## additional data needed for 1973 until 1975"
   ]
  },
  {
   "cell_type": "markdown",
   "metadata": {},
   "source": [
    "***\n",
    "<font color ='blue'> __TODO: Methods to keep AmendMentDate and RoundDate__ </font>\n",
    "***"
   ]
  },
  {
   "cell_type": "markdown",
   "metadata": {
    "collapsed": true
   },
   "source": [
    "***\n",
    "<font color ='blue'> __TODO: convert price information__ </font>\n",
    "***"
   ]
  },
  {
   "cell_type": "code",
   "execution_count": 45,
   "metadata": {},
   "outputs": [
    {
     "name": "stdout",
     "output_type": "stream",
     "text": [
      "OfferPrice has been converted. \n",
      "0 NAs have been created. 15268 valid values are left. \n",
      "\n",
      "AmendedHighFilingPrice has been converted. \n",
      "0 NAs have been created. 10543 valid values are left. \n",
      "\n",
      "AmendedLowFilingPrice has been converted. \n",
      "0 NAs have been created. 10545 valid values are left. \n",
      "\n",
      "AmendedMiddleOfFilingPrice has been converted. \n",
      "0 NAs have been created. 10547 valid values are left. \n",
      "\n",
      "HighPriceOfFilingPriceRnge has been converted. \n",
      "5364 NAs have been created. 5201 valid values are left. \n",
      "\n",
      "LowPriceOfFilingPriceRnge has been converted. \n",
      "5364 NAs have been created. 5201 valid values are left. \n",
      "\n",
      "OriginalHighFilingPrice has been converted. \n",
      "0 NAs have been created. 8989 valid values are left. \n",
      "\n",
      "OriginalLowFilingPrice has been converted. \n",
      "0 NAs have been created. 8996 valid values are left. \n",
      "\n",
      "OriginalMiddleOfFilingPriceRange has been converted. \n",
      "0 NAs have been created. 9000 valid values are left. \n",
      "\n"
     ]
    }
   ],
   "source": [
    "for price_col in price_cols:\n",
    "    sdc_data = convert_price(data = sdc_data, column = price_col, errors='coerce') #"
   ]
  },
  {
   "cell_type": "code",
   "execution_count": 24,
   "metadata": {
    "scrolled": false
   },
   "outputs": [],
   "source": [
    "#sdc_data[price_cols].notna().sum()\n",
    "\n",
    "#sdc_data[price_cols].isna().sum()\n",
    "\n",
    "# IPO data points with total missing pricing information before IPO\n",
    "#sdc_data.loc[(sdc_data[\"AmendedHighFilingPrice\"].isna()) & \n",
    "#             (sdc_data[\"OriginalHighFilingPrice\"].isna()) & \n",
    "#             (sdc_data[\"HighPriceOfFilingPriceRnge\"].isna()) &\n",
    "#             (sdc_data['IPO'] == 'Yes'), :]\n",
    "\n",
    "# 1923 data rows are missing with price information"
   ]
  },
  {
   "cell_type": "code",
   "execution_count": 50,
   "metadata": {
    "scrolled": true
   },
   "outputs": [
    {
     "name": "stdout",
     "output_type": "stream",
     "text": [
      "before: 15268 rows. After: 14483 \n",
      "785 are deleted.\n"
     ]
    }
   ],
   "source": [
    "# clean the types of securites \n",
    "na_amount_before = len(sdc_data)\n",
    "ex_types= [\"Units\", \"Ltd Prtnr Int\", \"MLP-Common Shs\", \"Shs Benficl Int\",\n",
    "             \"Ltd Liab Int\", \"Stock Unit\", \"Trust Units\", \"Beneficial Ints\"]\n",
    "sdc_data = sdc_data[~sdc_data.Type.isin(ex_types)]\n",
    "na_amount_after = len(sdc_data)\n",
    "print(f'before: {na_amount_before} rows. After: {na_amount_after} \\n'\n",
    "     f'{na_amount_before - na_amount_after} are deleted.')\n",
    "\n",
    "#### Should be \"16,454 obs before ---> 15,107 obs after\" ####"
   ]
  },
  {
   "cell_type": "code",
   "execution_count": 51,
   "metadata": {
    "scrolled": true
   },
   "outputs": [
    {
     "data": {
      "text/plain": [
       "Index(['DealNumber', 'CIK', 'CUSIP6', 'CUSIP9', 'Issuer', 'FilingDate',\n",
       "       'IssueDate', 'IPO', 'OrigIPO', 'Type', 'REIT', 'ADR', 'Unit', 'CEF',\n",
       "       'MainSICCode', 'Units', 'SpinOff', 'ForeignIssue', 'TrackingStockIssue',\n",
       "       'BestEftFirmCmtBghtDl', 'OfferPrice',\n",
       "       'SharesOutstandingAfterTheOffering', 'SharesOutstandingBeforeOffering',\n",
       "       'SharesOfferedSumOfAllMkts', 'SharesOfrdIncOverSoldSumOfAllMkts',\n",
       "       'PrimaryShsOfrdSumOfAllMkts', 'SecondaryShsOfrdSumOfAllMkts',\n",
       "       'OverallotAmtOptionSumOfAllMktsMil', 'OverallotAmtSoldSumOfAllMktsmil',\n",
       "       'TotGlobalOverallotmentSharesSold', 'SharesFiledSumOfAllMkts',\n",
       "       'PrimaryShsFiledSumOfAllMkts', 'SecondaryShsFiledSumOfAllMkts',\n",
       "       'AmendedShsFiledSumOfAllMkts', 'AmendedPrimaryShsFiledSumOfAllMkts',\n",
       "       'AmendedSecondaryShsFiledSumOfAllMkts', 'AmendMentDate',\n",
       "       'AmendHistShsFiledSumOfAllMkts', 'AmendHistSecShsFiledSumOfAllMkts',\n",
       "       'AmendHistOverallotShsOptionSumOfAllMkts', 'TickerAtIssue',\n",
       "       'TickerUltimateParents', 'TickerCurrent', 'TickerSpinOffParent',\n",
       "       'AllManagers_x', 'NonBookrunners', 'AllManagersParentsCode',\n",
       "       'AllMgrRoleCode', 'Managers_x', 'CoManagers', 'LeadManager',\n",
       "       'ManagerAgentsLawyersCode', 'DomesticSyndicateMemberCode',\n",
       "       'Bookrunners_x', 'BookrunnersParent', 'VentureBacked', 'FirmName',\n",
       "       'FundName', 'RoundNumberOfInvesTors', 'DisclosedRoundTotalmil',\n",
       "       'RoundDate', 'TotalKnownAmtInvestedInCompany000', 'AllManagers_y',\n",
       "       'Bookrunners_y', 'LeadManagersLongName', 'LeadManagers', 'Managers_y',\n",
       "       'CoManagersLongName', 'State', 'Nation',\n",
       "       'CurrentExchangeLongDescriptio', 'AllExchangesWhereIssueWillBeListed_1',\n",
       "       'AllExchangesWhereIssueWillBeListed_2', 'ExchangeWhereIssuWillBeLi',\n",
       "       'AllExchangesWhereIssuersStockTrades',\n",
       "       'FirstTwoExchangesWhereIssueWillBeListed', 'SpinParExch',\n",
       "       'PrimaryExchangeWhereIssuersStockTrades', 'AmendedHighFilingPrice',\n",
       "       'AmendedLowFilingPrice', 'AmendedMiddleOfFilingPrice',\n",
       "       'HighPriceOfFilingPriceRnge', 'LowPriceOfFilingPriceRnge',\n",
       "       'OriginalHighFilingPrice', 'OriginalLowFilingPrice',\n",
       "       'OriginalMiddleOfFilingPriceRange', 'Year'],\n",
       "      dtype='object')"
      ]
     },
     "execution_count": 51,
     "metadata": {},
     "output_type": "execute_result"
    }
   ],
   "source": [
    "sdc_data.columns"
   ]
  },
  {
   "cell_type": "code",
   "execution_count": 84,
   "metadata": {
    "scrolled": true
   },
   "outputs": [
    {
     "name": "stdout",
     "output_type": "stream",
     "text": [
      "11130\n",
      "11130\n"
     ]
    }
   ],
   "source": [
    "### drop REIT, Units, ADR, penny stocks and CEF ###\n",
    "print(len(sdc_data))\n",
    "\n",
    "# drop REIT - Real Estate Investment Trust\n",
    "sdc_data = sdc_data[sdc_data['REIT'].isna()]\n",
    "\n",
    "# drop Unit \n",
    "sdc_data = sdc_data[~(sdc_data['Unit'] == 'Yes')]\n",
    "\n",
    "# drop Depositary (ADR)\n",
    "### print(collections.Counter(sdc_data['Depositary']))\n",
    "### TODO: get depositary & delete despositary!!! ####\n",
    "\n",
    "# filter the offer prices (drop penny stocks)\n",
    "sdc_data[sdc_data['OfferPrice'].notna()]\n",
    "sdc_data = sdc_data[sdc_data['OfferPrice']>5]\n",
    "\n",
    "# filter CEF\n",
    "sdc_data = sdc_data[sdc_data['CEF'] == 'No']\n",
    "\n",
    "print(len(sdc_data))"
   ]
  },
  {
   "cell_type": "code",
   "execution_count": 29,
   "metadata": {
    "scrolled": true
   },
   "outputs": [],
   "source": [
    "# how large is the price span?\n",
    "sdc_data.loc[:, 'AmendedFilingPriceSpan'] = sdc_data.loc[: , 'AmendedHighFilingPrice'] - sdc_data.loc[: , 'AmendedLowFilingPrice']\n",
    "sdc_data.loc[:, 'OriginalFilingPriceSpan'] = sdc_data.loc[: , 'OriginalHighFilingPrice'] - sdc_data.loc[: , 'OriginalLowFilingPrice']"
   ]
  },
  {
   "cell_type": "code",
   "execution_count": 30,
   "metadata": {},
   "outputs": [],
   "source": [
    "AmendedFilingPriceSpan = sdc_data['AmendedFilingPriceSpan'][sdc_data['AmendedFilingPriceSpan'].notna()].reset_index()['AmendedFilingPriceSpan']\n",
    "OriginalFilingPriceSpan = sdc_data['OriginalFilingPriceSpan'][sdc_data['OriginalFilingPriceSpan'].notna()].reset_index()['OriginalFilingPriceSpan']"
   ]
  },
  {
   "cell_type": "code",
   "execution_count": 79,
   "metadata": {
    "scrolled": false
   },
   "outputs": [
    {
     "name": "stdout",
     "output_type": "stream",
     "text": [
      "30258\n"
     ]
    },
    {
     "data": {
      "text/plain": [
       "Counter({0.0: 24056,\n",
       "         2.0: 4086,\n",
       "         4.0: 46,\n",
       "         1.0: 600,\n",
       "         3.0: 517,\n",
       "         1.25: 17,\n",
       "         0.5: 182,\n",
       "         0.25: 67,\n",
       "         1.5: 169,\n",
       "         0.75: 39,\n",
       "         0.6699999999999999: 7,\n",
       "         2.5: 38,\n",
       "         0.375: 6,\n",
       "         3.3000000000000007: 1,\n",
       "         6.0: 5,\n",
       "         3.6000000000000014: 2,\n",
       "         2.75: 2,\n",
       "         2.25: 5,\n",
       "         0.125: 2,\n",
       "         5.0: 11,\n",
       "         7.0: 1,\n",
       "         0.625: 2,\n",
       "         3.75: 1,\n",
       "         8.0: 1,\n",
       "         0.6500000000000004: 4,\n",
       "         0.6600000000000001: 3,\n",
       "         0.22499999999999998: 1,\n",
       "         0.1499999999999999: 1,\n",
       "         0.9199999999999999: 1,\n",
       "         1.75: 4,\n",
       "         2.8000000000000007: 1,\n",
       "         0.33000000000000007: 5,\n",
       "         2.1000000000000005: 1,\n",
       "         2.5999999999999996: 1,\n",
       "         2.08: 1,\n",
       "         0.16999999999999993: 2,\n",
       "         2.6999999999999993: 1,\n",
       "         0.03: 1,\n",
       "         0.6000000000000001: 1,\n",
       "         1.700000000000001: 2,\n",
       "         1.125: 1,\n",
       "         0.19999999999999996: 2,\n",
       "         1.4000000000000004: 1,\n",
       "         0.8799999999999999: 1,\n",
       "         2.3000000000000007: 1,\n",
       "         1.2000000000000002: 2,\n",
       "         0.06199999999999983: 1,\n",
       "         0.0625: 1,\n",
       "         0.1875: 2,\n",
       "         0.20000000000000007: 2,\n",
       "         0.33299999999999996: 1,\n",
       "         0.06000000000000005: 1,\n",
       "         1.8000000000000007: 1,\n",
       "         0.6900000000000004: 1,\n",
       "         0.3125: 2,\n",
       "         1.375: 1,\n",
       "         0.4400000000000013: 1,\n",
       "         0.4249999999999998: 1,\n",
       "         3.5: 1,\n",
       "         1.875: 1,\n",
       "         3.25: 1,\n",
       "         2.1000000000000014: 1,\n",
       "         3.030000000000001: 1,\n",
       "         1.0499999999999998: 1,\n",
       "         1.9499999999999993: 1,\n",
       "         1.9999999999999947: 1,\n",
       "         3.3699999999999974: 1,\n",
       "         0.00999999999999801: 1,\n",
       "         3.625: 1,\n",
       "         2.7699999999999996: 1,\n",
       "         2.0199999999999996: 1,\n",
       "         3.1400000000000006: 1,\n",
       "         12.0: 1,\n",
       "         3.6999999999999993: 1,\n",
       "         0.35999999999999943: 2,\n",
       "         2.2369999999999983: 2,\n",
       "         2.8644999999999996: 1,\n",
       "         0.0030000000000001137: 1,\n",
       "         1.9500000000000002: 2,\n",
       "         4.260000000000002: 1,\n",
       "         24.833999999999975: 1,\n",
       "         1.3399999999999999: 1,\n",
       "         3.240000000000002: 1,\n",
       "         1.9700000000000006: 1,\n",
       "         2.0000000000000036: 1,\n",
       "         2.369999999999999: 1,\n",
       "         5.859999999999999: 1,\n",
       "         3.66: 2,\n",
       "         0.010000000000001563: 1,\n",
       "         3.3659999999999997: 2,\n",
       "         0.063: 1,\n",
       "         6.350000000000001: 1,\n",
       "         0.12537999999999982: 1,\n",
       "         1.42: 2,\n",
       "         2.1999999999999993: 2,\n",
       "         3.91: 1,\n",
       "         10.0: 6,\n",
       "         0.629999999999999: 1,\n",
       "         0.002000000000000668: 1,\n",
       "         2.57625: 2,\n",
       "         9.620000000000005: 1,\n",
       "         0.49151999999999996: 3,\n",
       "         5.919999999999998: 1,\n",
       "         1.945999999999998: 1,\n",
       "         2.3200000000000003: 2,\n",
       "         3.0421999999999993: 2,\n",
       "         2.9375: 1,\n",
       "         0.0600000000000005: 2,\n",
       "         0.05000000000000071: 2,\n",
       "         0.10000000000000142: 13,\n",
       "         0.1999999999999993: 14,\n",
       "         48.31100000000001: 1,\n",
       "         2.3: 1,\n",
       "         5.440000000000001: 2,\n",
       "         2.4375: 1,\n",
       "         19.0: 1,\n",
       "         6.530000000000001: 1,\n",
       "         0.20000000000000284: 14,\n",
       "         0.19000000000000006: 1,\n",
       "         0.5599999999999987: 1,\n",
       "         1.1436899999999994: 1,\n",
       "         0.52: 1,\n",
       "         0.44999999999999996: 1,\n",
       "         0.04999999999999999: 2,\n",
       "         0.14999999999999947: 2,\n",
       "         0.008999999999999897: 1,\n",
       "         0.2400000000000002: 1,\n",
       "         0.12: 1,\n",
       "         2.580000000000001: 1,\n",
       "         0.6500000000000021: 1,\n",
       "         0.7000000000000028: 5,\n",
       "         0.3999999999999986: 11,\n",
       "         0.29999999999999716: 7,\n",
       "         0.17999999999999972: 2,\n",
       "         0.3799999999999999: 1,\n",
       "         0.15000000000000213: 3,\n",
       "         0.6499999999999986: 6,\n",
       "         0.5500000000000007: 3,\n",
       "         0.5999999999999979: 1,\n",
       "         0.10000000000000009: 3,\n",
       "         0.14999999999999858: 9,\n",
       "         0.19999999999999574: 2,\n",
       "         0.29999999999999893: 2,\n",
       "         0.8999999999999915: 1,\n",
       "         0.3000000000000007: 8,\n",
       "         0.09999999999999998: 1,\n",
       "         0.09000000000000341: 1,\n",
       "         0.16000000000000014: 1,\n",
       "         0.9000000000000021: 1,\n",
       "         0.6000000000000014: 12,\n",
       "         0.40000000000000036: 3,\n",
       "         0.9000000000000057: 1,\n",
       "         0.20000000000000107: 3,\n",
       "         1.5799999999999983: 1,\n",
       "         1.3999999999999986: 2,\n",
       "         0.6999999999999993: 2,\n",
       "         0.3500000000000014: 7,\n",
       "         4.199999999999989: 1,\n",
       "         0.9499999999999993: 2,\n",
       "         1.1999999999999957: 2,\n",
       "         0.4399999999999977: 1,\n",
       "         0.8000000000000007: 3,\n",
       "         0.4800000000000004: 1,\n",
       "         1.1150000000000002: 1,\n",
       "         1.0700000000000003: 1,\n",
       "         1.8000000000000043: 1,\n",
       "         0.6100000000000012: 1,\n",
       "         0.10999999999999943: 5,\n",
       "         1.6400000000000006: 1,\n",
       "         1.1499999999999986: 1,\n",
       "         0.15000000000000036: 1,\n",
       "         0.34999999999999964: 2,\n",
       "         2.450000000000003: 1,\n",
       "         0.4000000000000057: 3,\n",
       "         1.3900000000000006: 1,\n",
       "         0.5999999999999943: 1,\n",
       "         4.449999999999989: 1,\n",
       "         0.7100000000000009: 1,\n",
       "         2.209999999999999: 1,\n",
       "         0.9600000000000009: 1,\n",
       "         4.199999999999996: 1,\n",
       "         0.09999999999999432: 1,\n",
       "         0.09999999999999964: 4,\n",
       "         0.39999999999999947: 1,\n",
       "         1.3500000000000014: 1,\n",
       "         2.3999999999999986: 1,\n",
       "         0.22000000000000064: 1,\n",
       "         1.3499999999999943: 1,\n",
       "         0.8699999999999992: 1,\n",
       "         1.9000000000000057: 1,\n",
       "         0.20000000000000018: 3,\n",
       "         0.24999999999999956: 1,\n",
       "         0.9299999999999997: 1,\n",
       "         0.11999999999999922: 1,\n",
       "         0.46000000000000085: 1,\n",
       "         0.0799999999999983: 2,\n",
       "         2.8700000000000045: 1,\n",
       "         0.9500000000000028: 1,\n",
       "         1.5399999999999991: 1,\n",
       "         1.3499999999999979: 1,\n",
       "         0.21000000000000085: 1,\n",
       "         0.28000000000000114: 1,\n",
       "         1.3299999999999983: 1,\n",
       "         0.79: 1,\n",
       "         0.1599999999999966: 1,\n",
       "         0.5200000000000031: 1,\n",
       "         0.2599999999999998: 1,\n",
       "         0.07000000000000028: 1,\n",
       "         0.39000000000000057: 1,\n",
       "         0.4499999999999993: 2,\n",
       "         0.08000000000000007: 1,\n",
       "         1.2699999999999996: 1,\n",
       "         0.5299999999999976: 1,\n",
       "         0.5299999999999994: 1,\n",
       "         2.200000000000003: 1,\n",
       "         0.54: 1,\n",
       "         0.2700000000000031: 1,\n",
       "         0.41000000000000014: 1,\n",
       "         0.22000000000000242: 2,\n",
       "         1.2800000000000011: 1,\n",
       "         0.019999999999999574: 1,\n",
       "         2.490000000000002: 1,\n",
       "         0.7700000000000031: 1,\n",
       "         4.999999999999993: 1,\n",
       "         4.210000000000001: 1,\n",
       "         0.5499999999999972: 1,\n",
       "         0.09999999999999787: 2,\n",
       "         2.0799999999999983: 1,\n",
       "         0.7000000000000011: 1,\n",
       "         0.33999999999999986: 1,\n",
       "         6.439999999999998: 1,\n",
       "         0.23000000000000043: 1,\n",
       "         0.8899999999999997: 1,\n",
       "         6.5: 1,\n",
       "         0.45000000000000284: 1,\n",
       "         1.9200000000000017: 1,\n",
       "         0.4900000000000091: 1,\n",
       "         5.5: 1,\n",
       "         30.410000000000025: 1,\n",
       "         1.2600000000000051: 1,\n",
       "         0.9399999999999995: 1,\n",
       "         0.4099999999999966: 1,\n",
       "         0.8299999999999983: 1,\n",
       "         0.34999999999999787: 1,\n",
       "         0.9100000000000001: 1,\n",
       "         0.3200000000000003: 1,\n",
       "         0.22999999999999954: 1,\n",
       "         0.8499999999999943: 1})"
      ]
     },
     "execution_count": 79,
     "metadata": {},
     "output_type": "execute_result"
    }
   ],
   "source": [
    "#collections.Counter(AmendedFilingPriceSpan)\n",
    "print(len(OriginalFilingPriceSpan))\n",
    "collections.Counter(OriginalFilingPriceSpan)\n",
    "#plt.hist(AmendedFilingPriceSpan, bins=100)\n",
    "#plt.show()"
   ]
  },
  {
   "cell_type": "code",
   "execution_count": null,
   "metadata": {},
   "outputs": [],
   "source": [
    "#date, PERMNO, NCUSIP, PRC, RET, SHROUT, EXCHCD,\n",
    "#SHRCD\n",
    "\n"
   ]
  },
  {
   "cell_type": "markdown",
   "metadata": {
    "pycharm": {
     "name": "#%% DATA EXPLORATION\n"
    }
   },
   "source": [
    "# Questions: which values do i need?\n",
    "# IPO Flag (Y/N)\n",
    "#sum(sdc_data.loc[:, \"IPOFlag(Y/N)\"] == \"Yes\")\n",
    "# Out: 18224\n",
    "#sum(sdc_data.loc[:, \"IPOFlag(Y/N)\"] == \"No\")\n",
    "# Out: 31503\n",
    "\n",
    "sdc_data_usa = sdc_data.loc[sdc_data['Nation'] == \"United States\", :]\n",
    "sdc_data_usa_ipo = sdc_data_usa.loc[sdc_data['IPOFlagYN'] == 'Yes', :]\n",
    "\n",
    "df = sdc_data_usa_ipo.copy()\n",
    "print(df.shape)\n",
    "df = df.dropna(subset=['FilingDate'])\n",
    "print(df.shape)\n",
    "df = df.dropna(subset=['OfferPrice'])\n",
    "print(df.shape)\n",
    "df = df.dropna(subset=['OriginalHighFilingPrice'])\n",
    "print(df.shape)\n",
    "df = df.dropna(subset=['OriginalLowFilingPrice'])\n",
    "print(df.shape)\n",
    "#df = df.dropna(subset=['LowPriceofFilingPriceRnge'])\n",
    "#print(df.shape)\n",
    "#df = df.dropna(subset=['HighPriceofFilingPriceRnge'])\n",
    "#print(df.shape)\n",
    "\n",
    "df_without_range = df.dropna(subset=['HighPriceofFilingPriceRnge'])\n",
    "df_without_range = df.dropna(subset=['LowPriceofFilingPriceRnge'])\n",
    "\n",
    "# Data per Year?\n",
    "data_per_year = sdc_data.groupby('Year')['IssueDate'].size()\n",
    "\n",
    "# How many data for US per Year?\n",
    "data_US_per_year = sdc_data_usa.groupby('Year')['IssueDate'].count()\n",
    "\n",
    "# How many data for US IPOs per Year?\n",
    "ipo_per_year = sdc_data_usa_ipo.groupby('Year')['IssueDate'].count()\n",
    "\n",
    "# How many OfferPrices are per year given?\n",
    "ipo_US_with_data_per_year = df.groupby('Year')['OfferPrice'].count()\n",
    "\n",
    "# How many Ranges are per year given?\n",
    "ipo_US_with_range_data_per_year = df_without_range.groupby('Year')['OfferPrice'].count()\n",
    "\n",
    "ipos = pd.merge(data_per_year, data_US_per_year, how='outer', on=\"Year\")\n",
    "ipos = pd.merge(ipos, ipo_per_year, how='outer', on=\"Year\")\n",
    "ipos = pd.merge(ipos, ipo_US_with_data_per_year, how='outer', on=\"Year\")\n",
    "ipos = pd.merge(ipos, ipo_US_with_range_data_per_year, how='outer', on='Year')\n",
    "# create barplot with numbers of IPOs\n",
    "fig, ax = plt.subplots()\n",
    "width = 0.35\n",
    "p1 = ax.bar(ipos.index, ipos['IssueDate_x'])\n",
    "p2 = ax.bar(ipos.index, ipos['IssueDate_y'])\n",
    "p3 = ax.bar(ipos.index, ipos['IssueDate'])\n",
    "p4 = ax.bar(ipos.index, ipos['OfferPrice_x'])\n",
    "p5 = ax.bar(ipos.index, ipos['OfferPrice_y'])\n",
    "\n",
    "ax.legend((p1[0], p2[0], p3[0], p4[0], p5[0]),\n",
    "          ('data in SDC',\n",
    "           'US data in SDC',\n",
    "           'US IPOs in SDC',\n",
    "           'US IPOs in SDC with needed price data',\n",
    "           'US IPOs in SDC with needed range data')\n",
    "          )\n",
    "ax.autoscale_view()\n",
    "plt.show()\n",
    "\n",
    "\n",
    "# TODO: set date range\n",
    "sdc_data_subset = sdc_data_subset.loc[sdc_data['Year'] > 2000]\n",
    "\n",
    "# set Issue Date as index\n",
    "sdc_data.index = sdc_data[\"IssueDate\"]\n",
    "\n",
    "sdc_data.groupby([\"Year\"]).count()\n",
    "\n",
    "# TODO: Offer Price\n",
    "# TODO: Original Low Filing Price\n",
    "# TODO: Original High Filing Price\n",
    "\n",
    "#sum(sdc_data.loc[[\"Filing Date\"].notna() , [\"Filing Date\"]] == sdc_data.index)\n",
    "#sum(sdc_data.loc[sdc_data[\"Filing Date\"].notna() , [\"Filing Date\"]].values== sdc_data.loc[sdc_data[\"Filing Date\"].notna() , :].index)\n",
    "\n",
    "# TODO: how many values are since 1983 given?\n",
    "\n",
    "# TODO: Get only numeric values\n",
    "#def to_numeric(df, column):\n",
    "#    df[df[[column]].apply(lambda x: x[0].isdigit(), axis=1)]\n",
    "#to_numeric(sdc_data, \"High Price of Filing Price Range\")\n",
    "\n",
    "type(sdc_data[\"HighPriceOfFilingPriceRange\"][49724])\n",
    "test = pd.to_numeric(sdc_data[\"HighPriceOfFilingPriceRange\"], errors='coerce')\n",
    "cleaned_data = sdc_data[pd.to_numeric(sdc_data[\"HighPriceOfFilingPriceRange\"], errors='coerce').notnull()]\n",
    "test.isna().sum()\n",
    "\n",
    "# quick modeling\n",
    "\n",
    "sdc_data_1987 = sdc_data.loc[(sdc_data[\"IssueDate\"] > \"1983-01-01\") & (sdc_data[\"IssueDate\"] < \"1987-09-30\"), :]\n",
    "# 5009 examples from 1983 to Sept 1987\n",
    "\n",
    "sum(sdc_data_1987.loc[:, \"IPOFlag(Y/N)\"] == \"Yes\")\n",
    "# 2689 examples with IPO Flag\n",
    "\n",
    "sdc_data_1987_IPO = sdc_data_1987.loc[sdc_data_1987[\"IPOFlag(Y/N)\"] == \"Yes\", :]\n",
    "\n",
    "sdc_data_1987_IPO.isna().sum()\n",
    "# missing values\n",
    "#Original Low Filing Price                        488\n",
    "#Original High Filing Price                       489\n",
    "#Low Price of Filing Price Range                2679\n",
    "#High Price of Filing Price Range                2679\n",
    "\n",
    "sdc_data_1987_IPO = sdc_data_1987_IPO.loc[sdc_data_1987_IPO[\"OriginalHighFilingPrice\"].notna(), :]\n",
    "sdc_data_1987_IPO = sdc_data_1987_IPO.drop(columns=[\"IssueDate\"])\n",
    "sdc_data_1987_IPO = sdc_data_1987_IPO.reset_index()\n",
    "\n",
    "\n",
    "#sdc_data_1987_IPO = sdc_data[pd.to_numeric(sdc_data_1987_IPO[\"OfferPrice\"])]\n",
    "#sdc_data_1987_IPO = sdc_data[pd.to_numeric(sdc_data_1987_IPO[\"OriginalHighFilingPrice\"])]\n",
    "\n",
    "#features = np.array[(\"IssueDate\", \"IPOFlag(Y/N\", \"OfferPrice\", \"OriginalLowFilingPrice\", \"OriginalHighFilingPrice\")]\n",
    "#results = smf.ols('OfferPrice ~ OriginalLowFilingPrice + OriginalHighFilingPrice', data=sdc_data_1987_IPO).fit()\n",
    "#print(results.summary())\n",
    "\n",
    "#X = sdc_data_1987_IPO.loc[:, [\"OriginalLowFilingPrice\", \"OriginalHighFilingPrice\"]].values\n",
    "#y = sdc_data_1987_IPO[\"OfferPrice\"]\n",
    "#X = sm.add_constant(X)\n",
    "\n",
    "df = sdc_data\n",
    "regex = r\"\\d+.\\d+,\\d+\"\n",
    "\n",
    "df[~df[\"OfferPrice\"].str.contains(pat=regex, regex=True).fillna(value = True).values]\n",
    "df[~df[\"OriginalHighFilingPrice\"].str.contains(pat=regex, regex=True).fillna(value = True).values]\n",
    "df[~df[\"OriginalLowFilingPrice\"].str.contains(pat=regex, regex=True).fillna(value = True).values]\n",
    "\n",
    "# Test two indizes\n",
    "#2019-08-20 1.000,000\n",
    "#2019-08-16 ,810\n",
    "#2019-08-15 1,250\n",
    "#2019-07-26 ,75\n",
    "#2019-04-05 7.500,000\n",
    "\n",
    "sample = df.loc[df.index.isin([\"2019-08-20\",\n",
    "                               \"2019-08-16\",\n",
    "                               \"2019-08-15\",\n",
    "                               \"2019-07-26\",\n",
    "                               \"2019-04-05\"]), :]\n",
    "\n",
    "#test = df[pd.to_numeric(df[\"OriginalLowFilingPrice\"], errors='coerce')]\n",
    "\n",
    "verb = df.loc[df['Issuer'] == \"Verb Technology Co Inc\", :]\n",
    "\n",
    "\n",
    "test = sample.loc[:, ['OfferPrice',\n",
    "               'OriginalHighFilingPrice',\n",
    "               'OriginalLowFilingPrice',\n",
    "               'LowPriceOfFilingPriceRange',\n",
    "               'HighPriceOfFilingPriceRange']]\n",
    "\n",
    "\n"
   ]
  }
 ],
 "metadata": {
  "kernelspec": {
   "display_name": "Python 3",
   "language": "python",
   "name": "python3"
  },
  "language_info": {
   "codemirror_mode": {
    "name": "ipython",
    "version": 3
   },
   "file_extension": ".py",
   "mimetype": "text/x-python",
   "name": "python",
   "nbconvert_exporter": "python",
   "pygments_lexer": "ipython3",
   "version": "3.7.4"
  },
  "pycharm": {
   "stem_cell": {
    "cell_type": "raw",
    "metadata": {
     "collapsed": false
    },
    "source": []
   }
  }
 },
 "nbformat": 4,
 "nbformat_minor": 1
}
