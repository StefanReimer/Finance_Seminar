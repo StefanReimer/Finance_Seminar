{
 "cells": [
  {
   "cell_type": "markdown",
   "metadata": {},
   "source": [
    "# Finance V: Research Topics in Finance, Risk- and Resource management \n",
    "## Replication of paper: ..."
   ]
  },
  {
   "cell_type": "markdown",
   "metadata": {},
   "source": [
    "<blockquote>\n",
    "    Author: Stefan Reimer <br>\n",
    "    Date: 2019-12-28 <br>\n",
    "    python version: 3.7 <br>\n",
    "</blockquote>"
   ]
  },
  {
   "cell_type": "code",
   "execution_count": 85,
   "metadata": {
    "pycharm": {
     "is_executing": false,
     "name": "#%% import needed packages\n"
    }
   },
   "outputs": [],
   "source": [
    "%reload_ext autoreload\n",
    "%autoreload 2\n",
    "\n",
    "import numpy as np\n",
    "import pandas as pd\n",
    "import datetime\n",
    "import matplotlib.pyplot as plt\n",
    "import statsmodels.api as sm\n",
    "import statsmodels.formula.api as smf\n",
    "import re\n",
    "import collections\n",
    "\n",
    "import logging\n",
    "logger = logging.getLogger()\n",
    "logger.setLevel(logging.DEBUG)\n",
    "\n",
    "# import defined functions\n",
    "from src.functions.functions import (data_import_chunkwise, convert_NAs, get_duplicates, \n",
    "                                     find_char_in_colnames, convert_date, convert_price)\n",
    "\n",
    "# set the settings for displayed dataFrames\n",
    "pd.set_option('display.max_columns', None)\n",
    "pd.set_option('display.max_rows', 100)"
   ]
  },
  {
   "cell_type": "markdown",
   "metadata": {},
   "source": [
    "# 1 Load Data"
   ]
  },
  {
   "cell_type": "code",
   "execution_count": 86,
   "metadata": {},
   "outputs": [
    {
     "name": "stderr",
     "output_type": "stream",
     "text": [
      "INFO:root:loading started...\n",
      "INFO:root:loading finished.\n"
     ]
    },
    {
     "name": "stdout",
     "output_type": "stream",
     "text": [
      "The loaded data frame has 43709 rows and 86 columns.\n"
     ]
    }
   ],
   "source": [
    "#%%\n",
    "# define path to files & load data chunkwise\n",
    "filePath = \"data/initial_data/000_sdc_full.csv\"\n",
    "\n",
    "sdc_data = data_import_chunkwise(filePath=filePath)"
   ]
  },
  {
   "cell_type": "markdown",
   "metadata": {},
   "source": [
    "# first data exploration"
   ]
  },
  {
   "cell_type": "code",
   "execution_count": 87,
   "metadata": {},
   "outputs": [],
   "source": [
    "# show first 5 rows\n",
    "#print(sdc_data.head(5))\n",
    "\n",
    "# show last 5 rows\n",
    "#print(sdc_data.tail(5))\n",
    "\n",
    "# get key statistics for data\n",
    "#print(sdc_data.describe())\n",
    "\n",
    "# show all columns names\n",
    "#print(sdc_data.columns)"
   ]
  },
  {
   "cell_type": "code",
   "execution_count": 88,
   "metadata": {},
   "outputs": [
    {
     "name": "stdout",
     "output_type": "stream",
     "text": [
      "length of neede sample (from paper): 43816\n",
      "length of given sample: 43709\n",
      "difference: 107\n"
     ]
    }
   ],
   "source": [
    "# Question: Does the sample size fit? \n",
    "# Are only North American IPOs given?\n",
    "len_paper = 43816\n",
    "len_sample = len(sdc_data)\n",
    "\n",
    "print(f'length of neede sample (from paper): {len_paper}\\n'\n",
    "      f'length of given sample: {len_sample}\\n'\n",
    "     f'difference: {len_paper-len_sample}')"
   ]
  },
  {
   "cell_type": "markdown",
   "metadata": {},
   "source": [
    "Answer: there are some IPO data missing.\n",
    "the difference of 107 samples could results from the missing year 1973 and 1974 \n",
    "\n",
    "TODO: ASK PHILIPP, WHICH DATA HAS BEEN EXTRACTED"
   ]
  },
  {
   "cell_type": "markdown",
   "metadata": {},
   "source": [
    "A lot of missing values in the data."
   ]
  },
  {
   "cell_type": "markdown",
   "metadata": {},
   "source": [
    "# 2 Data preparation\n",
    "\n",
    "- Sort dataFrame\n",
    "- choose only fulfilled IPOs\n",
    "- convert date information\n",
    "- convert price information\n",
    "- create year variable\n",
    "\n"
   ]
  },
  {
   "cell_type": "code",
   "execution_count": 97,
   "metadata": {},
   "outputs": [],
   "source": [
    "# sort dataFrame\n",
    "sdc_data = sdc_data.sort_index()"
   ]
  },
  {
   "cell_type": "code",
   "execution_count": null,
   "metadata": {},
   "outputs": [],
   "source": [
    "# convert NAs in OrigIPO\n",
    "sdc_data = convert_NAs(sdc_data, 'OrigIPO')\n",
    "\n",
    "# print values of IPO and OrigIPO\n",
    "print(collections.Counter(sdc_data['OrigIPO']))\n",
    "print(collections.Counter(sdc_data['IPO']))\n",
    "\n",
    "# keep only IPOs\n",
    "sdc_data = sdc_data.loc[(sdc_data['IPO']=='Yes') &\n",
    "                        (sdc_data['OrigIPO']!='No'), :]\n",
    "print(len(sdc_data))\n",
    "# 16,454 should be left.\n",
    "# TODO: the difference is getting bigger; maybe made changes before the filtering?"
   ]
  },
  {
   "cell_type": "code",
   "execution_count": 98,
   "metadata": {},
   "outputs": [],
   "source": [
    "# find all columns which contains some date information\n",
    "date_cols = find_char_in_colnames(sdc_data, 'Date', print_bool= False)\n",
    "\n",
    "# find all columns which contains some price information\n",
    "price_cols = find_char_in_colnames(sdc_data, 'Price', print_bool= False)\n",
    "\n",
    "# find all columns which contains some share information\n",
    "share_cols = find_char_in_colnames(sdc_data, 'Share', print_bool= False)\n",
    "\n",
    "# find all columns which contains some overallotment information\n",
    "overall_cols = find_char_in_colnames(sdc_data, 'Overall', print_bool= False)\n",
    "\n",
    "# find all columns which contains some round information\n",
    "round_cols = find_char_in_colnames(sdc_data, 'Round', print_bool= False)"
   ]
  },
  {
   "cell_type": "code",
   "execution_count": 106,
   "metadata": {},
   "outputs": [],
   "source": [
    "# convert and clean date columns\n",
    "for date_col in date_cols:\n",
    "    sdc_data = convert_date(sdc_data, date_col, format='%Y-%m-%d', errors='coerce', print_bool=False)\n",
    "\n",
    "# convert and clean price columns\n",
    "for price_col in price_cols:\n",
    "    sdc_data = convert_price(data = sdc_data, column = price_col, errors='coerce', print_bool=False)\n",
    "\n",
    "# create year variable\n",
    "sdc_data['Year'] = sdc_data['IssueDate'].dt.year"
   ]
  },
  {
   "cell_type": "code",
   "execution_count": 101,
   "metadata": {},
   "outputs": [
    {
     "name": "stdout",
     "output_type": "stream",
     "text": [
      "The data start at 1983-01-14 00:00:00 and ends at 2019-11-25 00:00:00\n"
     ]
    }
   ],
   "source": [
    "# Question: Is the data horizont enough?\n",
    "date_start = sdc_data['FilingDate'].min()\n",
    "date_end = sdc_data['FilingDate'].max()\n",
    "print(f'The data start at {date_start} and ends at {date_end}')\n",
    "\n",
    "#Answer:\n",
    "## No, data is needed from 01.01.1973 until 31.12.2016\n",
    "## additional data needed for 1973 until 1975"
   ]
  },
  {
   "cell_type": "code",
   "execution_count": 103,
   "metadata": {
    "scrolled": true
   },
   "outputs": [
    {
     "name": "stdout",
     "output_type": "stream",
     "text": [
      "before: 15268 rows. After: 14483 \n",
      "785 are deleted.\n"
     ]
    }
   ],
   "source": [
    "# clean the types of securites\n",
    "length_before = len(sdc_data)\n",
    "ex_types= [\"Units\", \"Ltd Prtnr Int\", \"MLP-Common Shs\", \"Shs Benficl Int\",\n",
    "             \"Ltd Liab Int\", \"Stock Unit\", \"Trust Units\", \"Beneficial Ints\"]\n",
    "sdc_data = sdc_data[~sdc_data.Type.isin(ex_types)]\n",
    "length_after = len(sdc_data)\n",
    "print(f'before: {na_amount_before} rows. After: {na_amount_after} \\n'\n",
    "     f'{na_amount_before - na_amount_after} are deleted.')\n",
    "\n",
    "#### Should be \"16,454 obs before ---> 15,107 obs after\" ####"
   ]
  },
  {
   "cell_type": "code",
   "execution_count": 104,
   "metadata": {
    "scrolled": true
   },
   "outputs": [
    {
     "name": "stdout",
     "output_type": "stream",
     "text": [
      "14483\n",
      "11130\n"
     ]
    }
   ],
   "source": [
    "### drop REIT, Units, ADR, penny stocks and CEF ###\n",
    "print(len(sdc_data))\n",
    "\n",
    "# drop REIT - Real Estate Investment Trust\n",
    "sdc_data = sdc_data[sdc_data['REIT'].isna()]\n",
    "\n",
    "# drop Unit \n",
    "sdc_data = sdc_data[~(sdc_data['Unit'] == 'Yes')]\n",
    "\n",
    "# drop Depositary (ADR)\n",
    "### print(collections.Counter(sdc_data['Depositary']))\n",
    "### TODO: get depositary & delete despositary!!! ####\n",
    "\n",
    "# filter the offer prices (drop penny stocks)\n",
    "sdc_data[sdc_data['OfferPrice'].notna()]\n",
    "sdc_data = sdc_data[sdc_data['OfferPrice']>5]\n",
    "\n",
    "# filter CEF\n",
    "sdc_data = sdc_data[sdc_data['CEF'] == 'No']\n",
    "\n",
    "print(len(sdc_data))"
   ]
  },
  {
   "cell_type": "code",
   "execution_count": null,
   "metadata": {},
   "outputs": [],
   "source": [
    "# from CUSIP"
   ]
  },
  {
   "cell_type": "code",
   "execution_count": null,
   "metadata": {},
   "outputs": [],
   "source": [
    "# CRSP data\n",
    "\n",
    "#date, PERMNO, NCUSIP, PRC, RET, SHROUT, EXCHCD,\n",
    "#SHRCD"
   ]
  }
 ],
 "metadata": {
  "kernelspec": {
   "display_name": "Python 3",
   "language": "python",
   "name": "python3"
  },
  "language_info": {
   "codemirror_mode": {
    "name": "ipython",
    "version": 3
   },
   "file_extension": ".py",
   "mimetype": "text/x-python",
   "name": "python",
   "nbconvert_exporter": "python",
   "pygments_lexer": "ipython3",
   "version": "3.7.4"
  },
  "pycharm": {
   "stem_cell": {
    "cell_type": "raw",
    "metadata": {
     "collapsed": false
    },
    "source": []
   }
  }
 },
 "nbformat": 4,
 "nbformat_minor": 1
}
