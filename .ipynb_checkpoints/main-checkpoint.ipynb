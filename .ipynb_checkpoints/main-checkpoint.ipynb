{
 "cells": [
  {
   "cell_type": "markdown",
   "metadata": {},
   "source": [
    "# Finance V: Research Topics in Finance, Risk- and Resource management \n",
    "## Replication of paper: ..."
   ]
  },
  {
   "cell_type": "markdown",
   "metadata": {},
   "source": [
    "<blockquote>\n",
    "    Author: Stefan Reimer <br>\n",
    "    Date: 2019-12-28 <br>\n",
    "    python version: 3.7 <br>\n",
    "</blockquote>"
   ]
  },
  {
   "cell_type": "code",
   "execution_count": 1,
   "metadata": {
    "pycharm": {
     "is_executing": false,
     "name": "#%% import needed packages\n"
    }
   },
   "outputs": [],
   "source": [
    "%reload_ext autoreload\n",
    "%autoreload 2\n",
    "\n",
    "import numpy as np\n",
    "import pandas as pd\n",
    "import datetime\n",
    "import matplotlib.pyplot as plt\n",
    "import statsmodels.api as sm\n",
    "import statsmodels.formula.api as smf\n",
    "import re\n",
    "import collections\n",
    "\n",
    "import logging\n",
    "logger = logging.getLogger()\n",
    "logger.setLevel(logging.DEBUG)\n",
    "\n",
    "# import defined functions\n",
    "from src.functions.functions import (data_import_chunkwise, convert_NAs, get_duplicates, \n",
    "                                     find_char_in_colnames, convert_date, convert_price)\n",
    "\n",
    "# set the settings for displayed dataFrames\n",
    "pd.set_option('display.max_columns', None)\n",
    "pd.set_option('display.max_rows', 100)"
   ]
  },
  {
   "cell_type": "markdown",
   "metadata": {},
   "source": [
    "# 1 Load Data"
   ]
  },
  {
   "cell_type": "code",
   "execution_count": 2,
   "metadata": {},
   "outputs": [
    {
     "name": "stderr",
     "output_type": "stream",
     "text": [
      "INFO:root:loading started...\n",
      "INFO:root:loading finished.\n"
     ]
    },
    {
     "name": "stdout",
     "output_type": "stream",
     "text": [
      "The loaded data frame has 43709 rows and 86 columns.\n"
     ]
    }
   ],
   "source": [
    "#%%\n",
    "# define path to files & load data chunkwise\n",
    "\n",
    "folderPath = \"data/initial_data/\"\n",
    "filePath = folderPath + \"000_sdc_full.csv\"\n",
    "\n",
    "sdc_data = data_import_chunkwise(filePath=filePath)"
   ]
  },
  {
   "cell_type": "markdown",
   "metadata": {},
   "source": [
    "# first data exploration"
   ]
  },
  {
   "cell_type": "code",
   "execution_count": 3,
   "metadata": {},
   "outputs": [],
   "source": [
    "# show first 5 rows\n",
    "#print(sdc_data.head(5))\n",
    "\n",
    "# show last 5 rows\n",
    "#print(sdc_data.tail(5))\n",
    "\n",
    "# get key statistics for data\n",
    "#print(sdc_data.describe())\n",
    "\n",
    "# show all columns names\n",
    "#print(sdc_data.columns)"
   ]
  },
  {
   "cell_type": "code",
   "execution_count": 4,
   "metadata": {},
   "outputs": [
    {
     "name": "stdout",
     "output_type": "stream",
     "text": [
      "length of neede sample (from paper): 43816\n",
      "length of given sample: 43709\n",
      "difference: 107\n"
     ]
    }
   ],
   "source": [
    "# Question: Does the sample size fit? \n",
    "# Are only North American IPOs given?\n",
    "len_paper = 43816\n",
    "len_sample = len(sdc_data)\n",
    "\n",
    "print(f'length of neede sample (from paper): {len_paper}\\n'\n",
    "      f'length of given sample: {len_sample}\\n'\n",
    "     f'difference: {len_paper-len_sample}')"
   ]
  },
  {
   "cell_type": "markdown",
   "metadata": {},
   "source": [
    "Answer: there are some IPO data missing.\n",
    "the difference of 107 samples could results from the missing year 1973 and 1974 \n",
    "\n",
    "TODO: ASK PHILIPP, WHICH DATA HAS BEEN EXTRACTED"
   ]
  },
  {
   "cell_type": "markdown",
   "metadata": {},
   "source": [
    "A lot of missing values in the data."
   ]
  },
  {
   "cell_type": "markdown",
   "metadata": {},
   "source": [
    "# 2 Data preparation\n",
    "\n",
    "- Sort dataFrame\n",
    "- choose only fulfilled IPOs\n",
    "- convert date information\n",
    "- convert price information\n",
    "- create year variable\n",
    "\n"
   ]
  },
  {
   "cell_type": "code",
   "execution_count": 5,
   "metadata": {},
   "outputs": [],
   "source": [
    "# sort dataFrame\n",
    "sdc_data = sdc_data.sort_index()"
   ]
  },
  {
   "cell_type": "code",
   "execution_count": 6,
   "metadata": {},
   "outputs": [
    {
     "name": "stdout",
     "output_type": "stream",
     "text": [
      "0 NAs have been created. 6659 valid values are left. \n",
      "\n",
      "Counter({nan: 37050, 'No': 5110, 'Yes': 1549})\n",
      "Counter({'No': 28400, 'Yes': 15309})\n",
      "15268\n"
     ]
    }
   ],
   "source": [
    "# convert NAs in OrigIPO\n",
    "sdc_data = convert_NAs(sdc_data, 'OrigIPO')\n",
    "\n",
    "# print values of IPO and OrigIPO\n",
    "print(collections.Counter(sdc_data['OrigIPO']))\n",
    "print(collections.Counter(sdc_data['IPO']))\n",
    "\n",
    "# keep only IPOs\n",
    "sdc_data = sdc_data.loc[(sdc_data['IPO']=='Yes') &\n",
    "                        (sdc_data['OrigIPO']!='No'), :]\n",
    "print(len(sdc_data))\n",
    "# 16,454 should be left.\n",
    "# TODO: the difference is getting bigger; maybe made changes before the filtering?"
   ]
  },
  {
   "cell_type": "code",
   "execution_count": 7,
   "metadata": {},
   "outputs": [],
   "source": [
    "# find all columns which contains some date information\n",
    "date_cols = find_char_in_colnames(sdc_data, 'Date', print_bool= False)\n",
    "\n",
    "# find all columns which contains some price information\n",
    "price_cols = find_char_in_colnames(sdc_data, 'Price', print_bool= False)\n",
    "\n",
    "# find all columns which contains some share information\n",
    "share_cols = find_char_in_colnames(sdc_data, 'Share', print_bool= False)\n",
    "\n",
    "# find all columns which contains some overallotment information\n",
    "overall_cols = find_char_in_colnames(sdc_data, 'Overall', print_bool= False)\n",
    "\n",
    "# find all columns which contains some round information\n",
    "round_cols = find_char_in_colnames(sdc_data, 'Round', print_bool= False)"
   ]
  },
  {
   "cell_type": "code",
   "execution_count": 8,
   "metadata": {},
   "outputs": [],
   "source": [
    "# convert and clean date columns\n",
    "for date_col in date_cols:\n",
    "    sdc_data = convert_date(sdc_data, date_col, format='%Y-%m-%d', errors='coerce', print_bool=False)\n",
    "\n",
    "# convert and clean price columns\n",
    "for price_col in price_cols:\n",
    "    sdc_data = convert_price(data = sdc_data, column = price_col, errors='coerce', print_bool=False)\n",
    "\n",
    "# create year variable\n",
    "sdc_data['Year'] = sdc_data['IssueDate'].dt.year"
   ]
  },
  {
   "cell_type": "markdown",
   "metadata": {},
   "source": [
    "# <font color = 'blue'> TODO: CUT DATE </style>"
   ]
  },
  {
   "cell_type": "code",
   "execution_count": 9,
   "metadata": {},
   "outputs": [
    {
     "name": "stdout",
     "output_type": "stream",
     "text": [
      "The data start at 1983-01-14 00:00:00 and ends at 2019-11-25 00:00:00\n"
     ]
    }
   ],
   "source": [
    "# Question: Is the data horizont enough?\n",
    "date_start = sdc_data['FilingDate'].min()\n",
    "date_end = sdc_data['FilingDate'].max()\n",
    "print(f'The data start at {date_start} and ends at {date_end}')\n",
    "\n",
    "#Answer:\n",
    "## No, data is needed from 01.01.1973 until 31.12.2016\n",
    "## additional data needed for 1973 until 1975"
   ]
  },
  {
   "cell_type": "code",
   "execution_count": 11,
   "metadata": {
    "scrolled": true
   },
   "outputs": [
    {
     "name": "stdout",
     "output_type": "stream",
     "text": [
      "before: 14483 rows. After: 14483 rows. \n",
      "0 are deleted.\n"
     ]
    }
   ],
   "source": [
    "# clean the types of securites\n",
    "length_before = len(sdc_data)\n",
    "ex_types= [\"Units\", \"Ltd Prtnr Int\", \"MLP-Common Shs\", \"Shs Benficl Int\",\n",
    "             \"Ltd Liab Int\", \"Stock Unit\", \"Trust Units\", \"Beneficial Ints\"]\n",
    "sdc_data = sdc_data[~sdc_data.Type.isin(ex_types)]\n",
    "length_after = len(sdc_data)\n",
    "print(f'before: {length_before} rows. After: {length_after} rows. \\n'\n",
    "     f'{length_before - length_after} are deleted.')\n",
    "\n",
    "#### Should be \"16,454 obs before ---> 15,107 obs after\" ####"
   ]
  },
  {
   "cell_type": "code",
   "execution_count": 12,
   "metadata": {
    "scrolled": true
   },
   "outputs": [
    {
     "name": "stdout",
     "output_type": "stream",
     "text": [
      "14483\n",
      "11130\n"
     ]
    }
   ],
   "source": [
    "### drop REIT, Units, ADR, penny stocks and CEF ###\n",
    "print(len(sdc_data))\n",
    "\n",
    "# drop REIT - Real Estate Investment Trust\n",
    "sdc_data = sdc_data[sdc_data['REIT'].isna()]\n",
    "\n",
    "# drop Unit \n",
    "sdc_data = sdc_data[~(sdc_data['Unit'] == 'Yes')]\n",
    "\n",
    "# drop Depositary (ADR)\n",
    "### print(collections.Counter(sdc_data['Depositary']))\n",
    "### TODO: get depositary & delete despositary!!! ####\n",
    "\n",
    "# filter the offer prices (drop penny stocks)\n",
    "sdc_data[sdc_data['OfferPrice'].notna()]\n",
    "sdc_data = sdc_data[sdc_data['OfferPrice']>5]\n",
    "\n",
    "# filter CEF\n",
    "sdc_data = sdc_data[sdc_data['CEF'] == 'No']\n",
    "\n",
    "print(len(sdc_data))"
   ]
  },
  {
   "cell_type": "code",
   "execution_count": 13,
   "metadata": {},
   "outputs": [
    {
     "name": "stderr",
     "output_type": "stream",
     "text": [
      "INFO:numexpr.utils:NumExpr defaulting to 8 threads.\n"
     ]
    },
    {
     "name": "stdout",
     "output_type": "stream",
     "text": [
      "columns containing <<CUSIP>> are:\n",
      "['CUSIP6' 'CUSIP9']\n",
      "\n"
     ]
    }
   ],
   "source": [
    "# explore CUSIP\n",
    "cusip_cols = find_char_in_colnames(sdc_data, 'CUSIP')\n",
    "\n",
    "### creating 8-digit CUSIP to match with CRSP\n",
    "sdc_data['CUSIP8'] = sdc_data['CUSIP6'].astype(str) + '10'\n",
    "CUSIP9_sliced = sdc_data['CUSIP9'].str.slice(0, 8)\n",
    "sdc_data['CUSIP8'] = sdc_data['CUSIP8'].where(CUSIP9_sliced.isna(), CUSIP9_sliced)"
   ]
  },
  {
   "cell_type": "code",
   "execution_count": null,
   "metadata": {},
   "outputs": [],
   "source": [
    "# load CRSP data\n",
    "CRSPPath = 'data/initial_data/crsp_data.csv'\n",
    "crsp = pd.read_csv(CRSPPath)\n",
    "\n",
    "# Quick overview\n",
    "print(crsp.columns)\n",
    "print(crsp.head(2))\n",
    "\n",
    "#convert date\n",
    "crsp['date'] = pd.to_datetime(crsp['date'])\n",
    "\n",
    "# sort values for PERMNO and date\n",
    "crsp = crsp.sort_values(['PERMNO', 'date'])\n",
    "\n",
    "# drop duplicates\n",
    "crsp_PERMNO = crsp.drop_duplicates('PERMNO')"
   ]
  },
  {
   "cell_type": "code",
   "execution_count": null,
   "metadata": {},
   "outputs": [],
   "source": []
  },
  {
   "cell_type": "code",
   "execution_count": 15,
   "metadata": {},
   "outputs": [
    {
     "name": "stdout",
     "output_type": "stream",
     "text": [
      "7500\n",
      "7498\n"
     ]
    }
   ],
   "source": [
    "# keep only available prices\n",
    "print(len(crsp))\n",
    "crsp = crsp.loc[~crsp['PRC'].isna(), :]\n",
    "print(len(crsp))\n",
    "\n",
    "# create NCUSIP6\n",
    "crsp['NCUSIP6'] = crsp['NCUSIP'].str.slice(0, 6)\n",
    "\n",
    "\n",
    "#???FILTER FOR crsp <- crsp[SHRCD %in% 10:19 & EXCHCD %in% 1:3] only in PDF???"
   ]
  },
  {
   "cell_type": "code",
   "execution_count": 17,
   "metadata": {},
   "outputs": [
    {
     "data": {
      "text/plain": [
       "Index(['PERMNO', 'date', 'SHRCD', 'EXCHCD', 'NCUSIP', 'CUSIP', 'PRC', 'RET',\n",
       "       'SHROUT', 'NCUSIP6'],\n",
       "      dtype='object')"
      ]
     },
     "execution_count": 17,
     "metadata": {},
     "output_type": "execute_result"
    }
   ],
   "source": [
    "crsp.columns"
   ]
  },
  {
   "cell_type": "code",
   "execution_count": 40,
   "metadata": {},
   "outputs": [],
   "source": [
    "# create PERMNO_NUCSIP and FirstDate from sdc_data and CRSP\n",
    "crsp_PERMNO = crsp.drop_duplicates('PERMNO')\n",
    "\n",
    "permno_ncusip = pd.merge(sdc_data,\n",
    "         crsp_PERMNO[['NCUSIP', 'PERMNO', 'NCUSIP6', 'date']], \n",
    "         left_on='CUSIP8', right_on='NCUSIP',\n",
    "                    how='left')"
   ]
  },
  {
   "cell_type": "code",
   "execution_count": 41,
   "metadata": {},
   "outputs": [],
   "source": [
    "# create PERMNO_NUCSIP6 and FirstDate6 from sdc_data and CRSP\n",
    "permno_ncusip6 = pd.merge(scd_crsp,\n",
    "         crsp_PERMNO[['NCUSIP', 'PERMNO', 'NCUSIP6', 'date']], \n",
    "         left_on='CUSIP6', right_on='NCUSIP6',\n",
    "                    how='left')"
   ]
  },
  {
   "cell_type": "code",
   "execution_count": 42,
   "metadata": {},
   "outputs": [],
   "source": [
    "# add new columns to sdc_data\n",
    "sdc_data['Permno_ncusip'] = permno_ncusip['PERMNO']\n",
    "sdc_data['First_CRSP_date_ncusip'] = permno_ncusip['date']\n",
    "sdc_data['Permno_ncusip6'] = permno_ncusip6['PERMNO']\n",
    "sdc_data['First_CRSP_date_ncusip6'] = permno_ncusip6['date']"
   ]
  },
  {
   "cell_type": "code",
   "execution_count": 66,
   "metadata": {},
   "outputs": [],
   "source": [
    "# take PERMNO_CUSIP under condition\n",
    "sdc_data['Permno'] = -999\n",
    "sdc_data['dif'] = sdc_data['First_CRSP_date_ncusip'] - sdc_data['IssueDate']\n",
    "sdc_data['dif'] = sdc_data['dif'].dt.days\n",
    "condition = ((sdc_data['dif']>=-1) &\n",
    "             (sdc_data['dif']<=7) & \n",
    "             (sdc_data['Permno'] == -999) &\n",
    "             (sdc_data['dif'].notna()))\n",
    "sdc_data['Permno'] = sdc_data['Permno'].where(~condition,\n",
    "                         sdc_data['Permno_ncusip'])\n",
    "\n",
    "# take PERMNO_CUSIP6 under condition\n",
    "sdc_data['dif'] = sdc_data['First_CRSP_date_ncusip6'] - sdc_data['IssueDate']\n",
    "sdc_data['dif'] = sdc_data['dif'].dt.days\n",
    "condition = ((sdc_data['dif']>=-1) &\n",
    "             (sdc_data['dif']<=7) & \n",
    "             (sdc_data['Permno'] == -999) &\n",
    "             (sdc_data['dif'].notna()))\n",
    "sdc_data['Permno'] = sdc_data['Permno'].where(~condition,\n",
    "                         sdc_data['Permno_ncusip6'])"
   ]
  },
  {
   "cell_type": "code",
   "execution_count": 68,
   "metadata": {},
   "outputs": [],
   "source": [
    "# exclude observations without CRSP record\n",
    "sdc_data = sdc_data[sdc_data['Permno'] != -999]\n",
    "sdc_data = sdc_data.drop_duplicates(subset='Permno', keep='first')"
   ]
  },
  {
   "cell_type": "code",
   "execution_count": 71,
   "metadata": {
    "scrolled": true
   },
   "outputs": [
    {
     "ename": "ValueError",
     "evalue": "Cannot set a frame with no defined index and a value that cannot be converted to a Series",
     "output_type": "error",
     "traceback": [
      "\u001b[1;31m---------------------------------------------------------------------------\u001b[0m",
      "\u001b[1;31mValueError\u001b[0m                                Traceback (most recent call last)",
      "\u001b[1;32m~\\Anaconda3\\lib\\site-packages\\pandas\\core\\frame.py\u001b[0m in \u001b[0;36m_ensure_valid_index\u001b[1;34m(self, value)\u001b[0m\n\u001b[0;32m   3524\u001b[0m             \u001b[1;32mtry\u001b[0m\u001b[1;33m:\u001b[0m\u001b[1;33m\u001b[0m\u001b[1;33m\u001b[0m\u001b[0m\n\u001b[1;32m-> 3525\u001b[1;33m                 \u001b[0mvalue\u001b[0m \u001b[1;33m=\u001b[0m \u001b[0mSeries\u001b[0m\u001b[1;33m(\u001b[0m\u001b[0mvalue\u001b[0m\u001b[1;33m)\u001b[0m\u001b[1;33m\u001b[0m\u001b[1;33m\u001b[0m\u001b[0m\n\u001b[0m\u001b[0;32m   3526\u001b[0m             \u001b[1;32mexcept\u001b[0m \u001b[1;33m(\u001b[0m\u001b[0mValueError\u001b[0m\u001b[1;33m,\u001b[0m \u001b[0mNotImplementedError\u001b[0m\u001b[1;33m,\u001b[0m \u001b[0mTypeError\u001b[0m\u001b[1;33m)\u001b[0m\u001b[1;33m:\u001b[0m\u001b[1;33m\u001b[0m\u001b[1;33m\u001b[0m\u001b[0m\n",
      "\u001b[1;32m~\\Anaconda3\\lib\\site-packages\\pandas\\core\\series.py\u001b[0m in \u001b[0;36m__init__\u001b[1;34m(self, data, index, dtype, name, copy, fastpath)\u001b[0m\n\u001b[0;32m    312\u001b[0m \u001b[1;33m\u001b[0m\u001b[0m\n\u001b[1;32m--> 313\u001b[1;33m                 \u001b[0mdata\u001b[0m \u001b[1;33m=\u001b[0m \u001b[0mSingleBlockManager\u001b[0m\u001b[1;33m(\u001b[0m\u001b[0mdata\u001b[0m\u001b[1;33m,\u001b[0m \u001b[0mindex\u001b[0m\u001b[1;33m,\u001b[0m \u001b[0mfastpath\u001b[0m\u001b[1;33m=\u001b[0m\u001b[1;32mTrue\u001b[0m\u001b[1;33m)\u001b[0m\u001b[1;33m\u001b[0m\u001b[1;33m\u001b[0m\u001b[0m\n\u001b[0m\u001b[0;32m    314\u001b[0m \u001b[1;33m\u001b[0m\u001b[0m\n",
      "\u001b[1;32m~\\Anaconda3\\lib\\site-packages\\pandas\\core\\internals\\managers.py\u001b[0m in \u001b[0;36m__init__\u001b[1;34m(self, block, axis, do_integrity_check, fastpath)\u001b[0m\n\u001b[0;32m   1515\u001b[0m         \u001b[1;32mif\u001b[0m \u001b[1;32mnot\u001b[0m \u001b[0misinstance\u001b[0m\u001b[1;33m(\u001b[0m\u001b[0mblock\u001b[0m\u001b[1;33m,\u001b[0m \u001b[0mBlock\u001b[0m\u001b[1;33m)\u001b[0m\u001b[1;33m:\u001b[0m\u001b[1;33m\u001b[0m\u001b[1;33m\u001b[0m\u001b[0m\n\u001b[1;32m-> 1516\u001b[1;33m             \u001b[0mblock\u001b[0m \u001b[1;33m=\u001b[0m \u001b[0mmake_block\u001b[0m\u001b[1;33m(\u001b[0m\u001b[0mblock\u001b[0m\u001b[1;33m,\u001b[0m \u001b[0mplacement\u001b[0m\u001b[1;33m=\u001b[0m\u001b[0mslice\u001b[0m\u001b[1;33m(\u001b[0m\u001b[1;36m0\u001b[0m\u001b[1;33m,\u001b[0m \u001b[0mlen\u001b[0m\u001b[1;33m(\u001b[0m\u001b[0maxis\u001b[0m\u001b[1;33m)\u001b[0m\u001b[1;33m)\u001b[0m\u001b[1;33m,\u001b[0m \u001b[0mndim\u001b[0m\u001b[1;33m=\u001b[0m\u001b[1;36m1\u001b[0m\u001b[1;33m)\u001b[0m\u001b[1;33m\u001b[0m\u001b[1;33m\u001b[0m\u001b[0m\n\u001b[0m\u001b[0;32m   1517\u001b[0m \u001b[1;33m\u001b[0m\u001b[0m\n",
      "\u001b[1;32m~\\Anaconda3\\lib\\site-packages\\pandas\\core\\internals\\blocks.py\u001b[0m in \u001b[0;36mmake_block\u001b[1;34m(values, placement, klass, ndim, dtype, fastpath)\u001b[0m\n\u001b[0;32m   3266\u001b[0m \u001b[1;33m\u001b[0m\u001b[0m\n\u001b[1;32m-> 3267\u001b[1;33m     \u001b[1;32mreturn\u001b[0m \u001b[0mklass\u001b[0m\u001b[1;33m(\u001b[0m\u001b[0mvalues\u001b[0m\u001b[1;33m,\u001b[0m \u001b[0mndim\u001b[0m\u001b[1;33m=\u001b[0m\u001b[0mndim\u001b[0m\u001b[1;33m,\u001b[0m \u001b[0mplacement\u001b[0m\u001b[1;33m=\u001b[0m\u001b[0mplacement\u001b[0m\u001b[1;33m)\u001b[0m\u001b[1;33m\u001b[0m\u001b[1;33m\u001b[0m\u001b[0m\n\u001b[0m\u001b[0;32m   3268\u001b[0m \u001b[1;33m\u001b[0m\u001b[0m\n",
      "\u001b[1;32m~\\Anaconda3\\lib\\site-packages\\pandas\\core\\internals\\blocks.py\u001b[0m in \u001b[0;36m__init__\u001b[1;34m(self, values, placement, ndim)\u001b[0m\n\u001b[0;32m   2774\u001b[0m \u001b[1;33m\u001b[0m\u001b[0m\n\u001b[1;32m-> 2775\u001b[1;33m         \u001b[0msuper\u001b[0m\u001b[1;33m(\u001b[0m\u001b[1;33m)\u001b[0m\u001b[1;33m.\u001b[0m\u001b[0m__init__\u001b[0m\u001b[1;33m(\u001b[0m\u001b[0mvalues\u001b[0m\u001b[1;33m,\u001b[0m \u001b[0mndim\u001b[0m\u001b[1;33m=\u001b[0m\u001b[0mndim\u001b[0m\u001b[1;33m,\u001b[0m \u001b[0mplacement\u001b[0m\u001b[1;33m=\u001b[0m\u001b[0mplacement\u001b[0m\u001b[1;33m)\u001b[0m\u001b[1;33m\u001b[0m\u001b[1;33m\u001b[0m\u001b[0m\n\u001b[0m\u001b[0;32m   2776\u001b[0m \u001b[1;33m\u001b[0m\u001b[0m\n",
      "\u001b[1;32m~\\Anaconda3\\lib\\site-packages\\pandas\\core\\internals\\blocks.py\u001b[0m in \u001b[0;36m__init__\u001b[1;34m(self, values, placement, ndim)\u001b[0m\n\u001b[0;32m    127\u001b[0m                 \u001b[1;34m\"Wrong number of items passed {val}, placement implies \"\u001b[0m\u001b[1;33m\u001b[0m\u001b[1;33m\u001b[0m\u001b[0m\n\u001b[1;32m--> 128\u001b[1;33m                 \u001b[1;34m\"{mgr}\"\u001b[0m\u001b[1;33m.\u001b[0m\u001b[0mformat\u001b[0m\u001b[1;33m(\u001b[0m\u001b[0mval\u001b[0m\u001b[1;33m=\u001b[0m\u001b[0mlen\u001b[0m\u001b[1;33m(\u001b[0m\u001b[0mself\u001b[0m\u001b[1;33m.\u001b[0m\u001b[0mvalues\u001b[0m\u001b[1;33m)\u001b[0m\u001b[1;33m,\u001b[0m \u001b[0mmgr\u001b[0m\u001b[1;33m=\u001b[0m\u001b[0mlen\u001b[0m\u001b[1;33m(\u001b[0m\u001b[0mself\u001b[0m\u001b[1;33m.\u001b[0m\u001b[0mmgr_locs\u001b[0m\u001b[1;33m)\u001b[0m\u001b[1;33m)\u001b[0m\u001b[1;33m\u001b[0m\u001b[1;33m\u001b[0m\u001b[0m\n\u001b[0m\u001b[0;32m    129\u001b[0m             )\n",
      "\u001b[1;31mValueError\u001b[0m: Wrong number of items passed 96, placement implies 0",
      "\nDuring handling of the above exception, another exception occurred:\n",
      "\u001b[1;31mValueError\u001b[0m                                Traceback (most recent call last)",
      "\u001b[1;32m<ipython-input-71-c7cb2aa7af38>\u001b[0m in \u001b[0;36m<module>\u001b[1;34m\u001b[0m\n\u001b[0;32m      1\u001b[0m \u001b[1;31m# get price information\u001b[0m\u001b[1;33m\u001b[0m\u001b[1;33m\u001b[0m\u001b[1;33m\u001b[0m\u001b[0m\n\u001b[0;32m      2\u001b[0m \u001b[0mclose_price\u001b[0m \u001b[1;33m=\u001b[0m \u001b[0mpd\u001b[0m\u001b[1;33m.\u001b[0m\u001b[0mmerge\u001b[0m\u001b[1;33m(\u001b[0m\u001b[0msdc_data\u001b[0m\u001b[1;33m,\u001b[0m \u001b[0mcrsp_PERMNO\u001b[0m\u001b[1;33m[\u001b[0m\u001b[1;33m[\u001b[0m\u001b[1;34m'PERMNO'\u001b[0m\u001b[1;33m,\u001b[0m \u001b[1;34m'PRC'\u001b[0m\u001b[1;33m]\u001b[0m\u001b[1;33m]\u001b[0m\u001b[1;33m,\u001b[0m \u001b[0mleft_on\u001b[0m\u001b[1;33m=\u001b[0m\u001b[1;34m'Permno'\u001b[0m\u001b[1;33m,\u001b[0m \u001b[0mright_on\u001b[0m\u001b[1;33m=\u001b[0m\u001b[1;34m'PERMNO'\u001b[0m\u001b[1;33m)\u001b[0m\u001b[1;33m\u001b[0m\u001b[1;33m\u001b[0m\u001b[0m\n\u001b[1;32m----> 3\u001b[1;33m \u001b[0msdc_data\u001b[0m\u001b[1;33m[\u001b[0m\u001b[1;34m'close_price'\u001b[0m\u001b[1;33m]\u001b[0m \u001b[1;33m=\u001b[0m \u001b[0mnp\u001b[0m\u001b[1;33m.\u001b[0m\u001b[0mabsolute\u001b[0m\u001b[1;33m(\u001b[0m\u001b[0mclose_price\u001b[0m\u001b[1;33m)\u001b[0m\u001b[1;33m\u001b[0m\u001b[1;33m\u001b[0m\u001b[0m\n\u001b[0m\u001b[0;32m      4\u001b[0m \u001b[0msdc_data\u001b[0m\u001b[1;33m[\u001b[0m\u001b[1;34m'IR'\u001b[0m\u001b[1;33m]\u001b[0m \u001b[1;33m=\u001b[0m \u001b[1;33m(\u001b[0m\u001b[0msdc_data\u001b[0m\u001b[1;33m[\u001b[0m\u001b[1;34m'close_price'\u001b[0m\u001b[1;33m]\u001b[0m\u001b[1;33m/\u001b[0m\u001b[0msdc_data\u001b[0m\u001b[1;33m[\u001b[0m\u001b[1;34m'OfferPrice'\u001b[0m\u001b[1;33m]\u001b[0m\u001b[1;33m-\u001b[0m\u001b[1;36m1\u001b[0m\u001b[1;33m)\u001b[0m\u001b[1;33m\u001b[0m\u001b[1;33m\u001b[0m\u001b[0m\n",
      "\u001b[1;32m~\\Anaconda3\\lib\\site-packages\\pandas\\core\\frame.py\u001b[0m in \u001b[0;36m__setitem__\u001b[1;34m(self, key, value)\u001b[0m\n\u001b[0;32m   3470\u001b[0m         \u001b[1;32melse\u001b[0m\u001b[1;33m:\u001b[0m\u001b[1;33m\u001b[0m\u001b[1;33m\u001b[0m\u001b[0m\n\u001b[0;32m   3471\u001b[0m             \u001b[1;31m# set column\u001b[0m\u001b[1;33m\u001b[0m\u001b[1;33m\u001b[0m\u001b[1;33m\u001b[0m\u001b[0m\n\u001b[1;32m-> 3472\u001b[1;33m             \u001b[0mself\u001b[0m\u001b[1;33m.\u001b[0m\u001b[0m_set_item\u001b[0m\u001b[1;33m(\u001b[0m\u001b[0mkey\u001b[0m\u001b[1;33m,\u001b[0m \u001b[0mvalue\u001b[0m\u001b[1;33m)\u001b[0m\u001b[1;33m\u001b[0m\u001b[1;33m\u001b[0m\u001b[0m\n\u001b[0m\u001b[0;32m   3473\u001b[0m \u001b[1;33m\u001b[0m\u001b[0m\n\u001b[0;32m   3474\u001b[0m     \u001b[1;32mdef\u001b[0m \u001b[0m_setitem_slice\u001b[0m\u001b[1;33m(\u001b[0m\u001b[0mself\u001b[0m\u001b[1;33m,\u001b[0m \u001b[0mkey\u001b[0m\u001b[1;33m,\u001b[0m \u001b[0mvalue\u001b[0m\u001b[1;33m)\u001b[0m\u001b[1;33m:\u001b[0m\u001b[1;33m\u001b[0m\u001b[1;33m\u001b[0m\u001b[0m\n",
      "\u001b[1;32m~\\Anaconda3\\lib\\site-packages\\pandas\\core\\frame.py\u001b[0m in \u001b[0;36m_set_item\u001b[1;34m(self, key, value)\u001b[0m\n\u001b[0;32m   3546\u001b[0m         \"\"\"\n\u001b[0;32m   3547\u001b[0m \u001b[1;33m\u001b[0m\u001b[0m\n\u001b[1;32m-> 3548\u001b[1;33m         \u001b[0mself\u001b[0m\u001b[1;33m.\u001b[0m\u001b[0m_ensure_valid_index\u001b[0m\u001b[1;33m(\u001b[0m\u001b[0mvalue\u001b[0m\u001b[1;33m)\u001b[0m\u001b[1;33m\u001b[0m\u001b[1;33m\u001b[0m\u001b[0m\n\u001b[0m\u001b[0;32m   3549\u001b[0m         \u001b[0mvalue\u001b[0m \u001b[1;33m=\u001b[0m \u001b[0mself\u001b[0m\u001b[1;33m.\u001b[0m\u001b[0m_sanitize_column\u001b[0m\u001b[1;33m(\u001b[0m\u001b[0mkey\u001b[0m\u001b[1;33m,\u001b[0m \u001b[0mvalue\u001b[0m\u001b[1;33m)\u001b[0m\u001b[1;33m\u001b[0m\u001b[1;33m\u001b[0m\u001b[0m\n\u001b[0;32m   3550\u001b[0m         \u001b[0mNDFrame\u001b[0m\u001b[1;33m.\u001b[0m\u001b[0m_set_item\u001b[0m\u001b[1;33m(\u001b[0m\u001b[0mself\u001b[0m\u001b[1;33m,\u001b[0m \u001b[0mkey\u001b[0m\u001b[1;33m,\u001b[0m \u001b[0mvalue\u001b[0m\u001b[1;33m)\u001b[0m\u001b[1;33m\u001b[0m\u001b[1;33m\u001b[0m\u001b[0m\n",
      "\u001b[1;32m~\\Anaconda3\\lib\\site-packages\\pandas\\core\\frame.py\u001b[0m in \u001b[0;36m_ensure_valid_index\u001b[1;34m(self, value)\u001b[0m\n\u001b[0;32m   3526\u001b[0m             \u001b[1;32mexcept\u001b[0m \u001b[1;33m(\u001b[0m\u001b[0mValueError\u001b[0m\u001b[1;33m,\u001b[0m \u001b[0mNotImplementedError\u001b[0m\u001b[1;33m,\u001b[0m \u001b[0mTypeError\u001b[0m\u001b[1;33m)\u001b[0m\u001b[1;33m:\u001b[0m\u001b[1;33m\u001b[0m\u001b[1;33m\u001b[0m\u001b[0m\n\u001b[0;32m   3527\u001b[0m                 raise ValueError(\n\u001b[1;32m-> 3528\u001b[1;33m                     \u001b[1;34m\"Cannot set a frame with no defined index \"\u001b[0m\u001b[1;33m\u001b[0m\u001b[1;33m\u001b[0m\u001b[0m\n\u001b[0m\u001b[0;32m   3529\u001b[0m                     \u001b[1;34m\"and a value that cannot be converted to a \"\u001b[0m\u001b[1;33m\u001b[0m\u001b[1;33m\u001b[0m\u001b[0m\n\u001b[0;32m   3530\u001b[0m                     \u001b[1;34m\"Series\"\u001b[0m\u001b[1;33m\u001b[0m\u001b[1;33m\u001b[0m\u001b[0m\n",
      "\u001b[1;31mValueError\u001b[0m: Cannot set a frame with no defined index and a value that cannot be converted to a Series"
     ]
    }
   ],
   "source": [
    "# create initial returns\n",
    "close_price = pd.merge(sdc_data, crsp_PERMNO[['PERMNO', 'PRC']], left_on='Permno', right_on='PERMNO')\n",
    "sdc_data['close_price'] = np.absolute(close_price)\n",
    "sdc_data['IR'] = (sdc_data['close_price']/sdc_data['OfferPrice']-1)"
   ]
  },
  {
   "cell_type": "markdown",
   "metadata": {},
   "source": [
    "### 11,103 obs ---> 8,995 obs\n",
    "\n",
    "### matching CRSP infor\n",
    "m <- match(ipo$Permno, crsp$PERMNO)\n",
    "ipo[, `:=` (First_CRSP_date = ymd(crsp$date[m]), Close_price1 = abs(crsp$PRC[m]), Close_price2 = abs(crsp$PRC[m + 1]))]\n",
    "\n",
    "### removing extra variables\n",
    "ipo[,`:=`(First_CRSP_date_ncusip = NULL,First_CRSP_date_ncusip6 = NULL, Permno_ncusip = NULL, Permno_ncusip6 = NULL, dif = NULL)]\n",
    "ipo[, `:=`(REIT = NULL, Unit = NULL, Depositary = NULL, CEF = NULL, CUSIP = NULL, CUSIP9 = NULL)]\n",
    "ipo[, `:=`(IPO_Flag = NULL, Original_IPO_Flag = NULL)]\n",
    "\n",
    "\n",
    "### Dropping wrong share clases and shares traded on other exchanges\n",
    "### Loading CRSP Stock Header Information file\n",
    "crsp.info <- fread(crsp.info.datafile, select = c(\"PERMNO\", \"HSHRCD\", \"HEXCD\"))\n",
    "m <- match(ipo$Permno, crsp.info$PERMNO)\n",
    "ipo[, `:=` (exch = crsp.info$HEXCD[m], shrcd = crsp.info$HSHRCD[m])]"
   ]
  },
  {
   "cell_type": "code",
   "execution_count": null,
   "metadata": {},
   "outputs": [],
   "source": [
    "### removing extra variables\n",
    "for drop_column in ['REIT', 'Unit', 'CEF', 'CUSIP6', 'CUSIP8', 'CUSIP9', 'IPO', 'OrigIPO']:\n",
    "    # First_CRSP_date_ncusip, First_CRSP_date_ncusip6, Permno_ncusip, Permno_ncusip6, dif, Depositary\n",
    "    sdc_data = sdc_data.drop(columns=drop_column)"
   ]
  },
  {
   "cell_type": "code",
   "execution_count": null,
   "metadata": {},
   "outputs": [],
   "source": [
    "sdc_data.to_csv(folderPath + \"data_prepared.csv\")"
   ]
  }
 ],
 "metadata": {
  "kernelspec": {
   "display_name": "Python 3",
   "language": "python",
   "name": "python3"
  },
  "language_info": {
   "codemirror_mode": {
    "name": "ipython",
    "version": 3
   },
   "file_extension": ".py",
   "mimetype": "text/x-python",
   "name": "python",
   "nbconvert_exporter": "python",
   "pygments_lexer": "ipython3",
   "version": "3.7.4"
  },
  "pycharm": {
   "stem_cell": {
    "cell_type": "raw",
    "metadata": {
     "collapsed": false
    },
    "source": []
   }
  }
 },
 "nbformat": 4,
 "nbformat_minor": 1
}
