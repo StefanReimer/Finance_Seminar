{
 "cells": [
  {
   "cell_type": "markdown",
   "metadata": {},
   "source": [
    "# Finance V: Research Topics in Finance, Risk- and Resource management \n",
    "## Replication of paper: Lowry, Michaely & Volkova (2017)"
   ]
  },
  {
   "cell_type": "markdown",
   "metadata": {},
   "source": [
    "<blockquote>\n",
    "    Author: Stefan Reimer <br>\n",
    "    Date: 2019-12-28 <br>\n",
    "    python version: 3.7 <br>\n",
    "</blockquote>"
   ]
  },
  {
   "cell_type": "code",
   "execution_count": 156,
   "metadata": {
    "pycharm": {
     "is_executing": false,
     "name": "#%% import needed packages\n"
    }
   },
   "outputs": [],
   "source": [
    "%reload_ext autoreload\n",
    "%autoreload 2\n",
    "\n",
    "import numpy as np\n",
    "import pandas as pd\n",
    "import datetime\n",
    "\n",
    "# import defined functions\n",
    "from src.functions.functions import *\n",
    "\n",
    "# set the settings for displayed dataFrames\n",
    "pd.set_option('display.max_columns', None)\n",
    "pd.set_option('display.max_rows', 100)"
   ]
  },
  {
   "cell_type": "markdown",
   "metadata": {},
   "source": [
    "### functions"
   ]
  },
  {
   "cell_type": "code",
   "execution_count": 157,
   "metadata": {},
   "outputs": [],
   "source": [
    "def create_date_difference(df, date1, date2, new_col_name='dif', info_print = True):\n",
    "  \"\"\"\n",
    "  function to create the date dif variable for two dates \n",
    "  @param df: dataframe containing the two date columns\n",
    "  @param date1: date to extract date2 from\n",
    "  @param date2: date which should be extracted from date1\n",
    "  @return: dataframe with added \"dif\" column, which describes the range between date1 and date2\n",
    "  \"\"\"\n",
    "  df.loc[:, new_col_name] = df.loc[:, date1] - df.loc[:, date2]\n",
    "  df.loc[:, new_col_name] = df[new_col_name].dt.days \n",
    "  if(info_print):\n",
    "    difminus60 = (df[new_col_name]<=-60.0).sum()\n",
    "    difminus30 = ((df[new_col_name]>-60.0) &(df[new_col_name]<=-30.0)).sum()\n",
    "    difminus10 = ((df[new_col_name]>-30.0) &(df[new_col_name]<-10.0)).sum()\n",
    "    difminus1 = ((df[new_col_name]>-10.0) & (df[new_col_name]<-1.0)).sum()\n",
    "    difunder7 = ((df[new_col_name]>=-1.0) & (df[new_col_name]<=7.0)).sum()\n",
    "    difover7 = ((df[new_col_name]>7.0) & (df[new_col_name]<15.0)).sum()\n",
    "    difover15 = (df[new_col_name]>=15.0).sum()\n",
    "    print(f'{new_col_name}:  dif<=-60: {difminus60}, -60 > dif <= -30: {difminus30}, -30 <= dif < -10: {difminus10} \\n , -10 < dif < -1: {difminus1}, -1 <= dif <= 7: {difunder7}, 7 < dif < 15: {difover7}, 15 <= dif: {difover15} \\n')\n",
    "  return df"
   ]
  },
  {
   "cell_type": "markdown",
   "metadata": {},
   "source": [
    "### load cleaned sdc & crsp data"
   ]
  },
  {
   "cell_type": "code",
   "execution_count": 158,
   "metadata": {},
   "outputs": [],
   "source": [
    "#%%\n",
    "# define path to files & load data chunkwise\n",
    "\n",
    "initial_folder_path = \"data/initial_data/\"\n",
    "cleaned_folder_path = \"data/cleaned_data/\"\n",
    "\n",
    "sdc_path = cleaned_folder_path + 'sdc_data_cleaned.pkl'\n",
    "crsp_path = cleaned_folder_path + 'crsp_only_start.pkl'\n",
    "\n",
    "sdc = pd.read_pickle(sdc_path)\n",
    "crsp = pd.read_pickle(crsp_path)\n",
    "\n",
    "sdc = sdc.reset_index()"
   ]
  },
  {
   "cell_type": "code",
   "execution_count": 159,
   "metadata": {},
   "outputs": [
    {
     "data": {
      "text/html": [
       "<div>\n",
       "<style scoped>\n",
       "    .dataframe tbody tr th:only-of-type {\n",
       "        vertical-align: middle;\n",
       "    }\n",
       "\n",
       "    .dataframe tbody tr th {\n",
       "        vertical-align: top;\n",
       "    }\n",
       "\n",
       "    .dataframe thead th {\n",
       "        text-align: right;\n",
       "    }\n",
       "</style>\n",
       "<table border=\"1\" class=\"dataframe\">\n",
       "  <thead>\n",
       "    <tr style=\"text-align: right;\">\n",
       "      <th></th>\n",
       "      <th>PERMNO</th>\n",
       "      <th>date</th>\n",
       "      <th>SHRCD</th>\n",
       "      <th>EXCHCD</th>\n",
       "      <th>NCUSIP</th>\n",
       "      <th>CUSIP</th>\n",
       "      <th>PRC</th>\n",
       "      <th>RET</th>\n",
       "      <th>SHROUT</th>\n",
       "      <th>NCUSIP6</th>\n",
       "    </tr>\n",
       "  </thead>\n",
       "  <tbody>\n",
       "    <tr>\n",
       "      <td>34045372</td>\n",
       "      <td>59248.0</td>\n",
       "      <td>1975-06-12</td>\n",
       "      <td>11.0</td>\n",
       "      <td>3.0</td>\n",
       "      <td>21701610</td>\n",
       "      <td>60871R20</td>\n",
       "      <td>-30.75</td>\n",
       "      <td>C</td>\n",
       "      <td>34159.0</td>\n",
       "      <td>217016</td>\n",
       "    </tr>\n",
       "    <tr>\n",
       "      <td>34052862</td>\n",
       "      <td>59248.0</td>\n",
       "      <td>2005-02-09</td>\n",
       "      <td>11.0</td>\n",
       "      <td>1.0</td>\n",
       "      <td>60871R20</td>\n",
       "      <td>60871R20</td>\n",
       "      <td>73.50</td>\n",
       "      <td>-0.030087</td>\n",
       "      <td>36166.0</td>\n",
       "      <td>60871R</td>\n",
       "    </tr>\n",
       "  </tbody>\n",
       "</table>\n",
       "</div>"
      ],
      "text/plain": [
       "           PERMNO       date  SHRCD  EXCHCD    NCUSIP     CUSIP    PRC  \\\n",
       "34045372  59248.0 1975-06-12   11.0     3.0  21701610  60871R20 -30.75   \n",
       "34052862  59248.0 2005-02-09   11.0     1.0  60871R20  60871R20  73.50   \n",
       "\n",
       "                RET   SHROUT NCUSIP6  \n",
       "34045372          C  34159.0  217016  \n",
       "34052862  -0.030087  36166.0  60871R  "
      ]
     },
     "execution_count": 159,
     "metadata": {},
     "output_type": "execute_result"
    }
   ],
   "source": [
    "crsp[crsp['PERMNO']==59248]"
   ]
  },
  {
   "cell_type": "markdown",
   "metadata": {},
   "source": [
    "### match sdc & crsp data"
   ]
  },
  {
   "cell_type": "code",
   "execution_count": 160,
   "metadata": {
    "scrolled": true
   },
   "outputs": [
    {
     "name": "stdout",
     "output_type": "stream",
     "text": [
      "the dataset contains 43367 samples. 31560 PERMNO values are unique.\n"
     ]
    }
   ],
   "source": [
    "# print size and unique values\n",
    "unique_PERMNO = len(np.unique(crsp['PERMNO'])) \n",
    "print(f'the dataset contains {len(crsp)} samples.'\n",
    "      f' {unique_PERMNO} PERMNO values are unique.')"
   ]
  },
  {
   "cell_type": "code",
   "execution_count": 161,
   "metadata": {},
   "outputs": [],
   "source": [
    "# create PERMNO_NUCSIP and FirstDate from sdc_data and CRSP#\n",
    "sdc = pd.merge(sdc,\n",
    "         crsp[['NCUSIP', 'PERMNO', 'date']], \n",
    "         left_on='CUSIP8', right_on='NCUSIP',\n",
    "                    how='left')\n",
    "sdc = sdc.rename(columns={'date': 'First_CRSP_date_ncusip', 'PERMNO': 'Permno_ncusip'})\n",
    "\n",
    "# create PERMNO_NUCSIP6 and FirstDate from sdc_data and CRSP\n",
    "sdc = pd.merge(sdc,\n",
    "         crsp[['NCUSIP6', 'PERMNO', 'date']], \n",
    "         left_on='CUSIP6', right_on='NCUSIP6',\n",
    "                    how='left')\n",
    "sdc = sdc.rename(columns={'date': 'First_CRSP_date_ncusip6', 'PERMNO': 'Permno_ncusip6'})"
   ]
  },
  {
   "cell_type": "code",
   "execution_count": 162,
   "metadata": {
    "scrolled": true
   },
   "outputs": [],
   "source": [
    "sdc['Permno'] = -999\n"
   ]
  },
  {
   "cell_type": "code",
   "execution_count": 163,
   "metadata": {},
   "outputs": [],
   "source": [
    "def return_condition_check(df, col):\n",
    "  condition = (df[col]>=-1) & (df[col]<=7) & (df['Permno'] == -999) & df[col].notna() \n",
    "  return condition"
   ]
  },
  {
   "cell_type": "code",
   "execution_count": 164,
   "metadata": {},
   "outputs": [
    {
     "name": "stdout",
     "output_type": "stream",
     "text": [
      "dif:  dif<=-60: 121, -60 > dif <= -30: 5, -30 <= dif < -10: 3 \n",
      " , -10 < dif < -1: 13, -1 <= dif <= 7: 10105, 7 < dif < 15: 57, 15 <= dif: 260 \n",
      "\n",
      "971\n"
     ]
    }
   ],
   "source": [
    "sdc = create_date_difference(sdc, 'First_CRSP_date_ncusip', 'IssueDate', 'dif')\n",
    "condition = return_condition_check(sdc, 'dif')\n",
    "sdc.loc[condition, 'Permno'] = sdc['Permno_ncusip']\n",
    "print((sdc['Permno']==-999).sum())"
   ]
  },
  {
   "cell_type": "code",
   "execution_count": 165,
   "metadata": {},
   "outputs": [
    {
     "name": "stdout",
     "output_type": "stream",
     "text": [
      "dif:  dif<=-60: 152, -60 > dif <= -30: 5, -30 <= dif < -10: 5 \n",
      " , -10 < dif < -1: 12, -1 <= dif <= 7: 9203, 7 < dif < 15: 58, 15 <= dif: 1200 \n",
      "\n",
      "762\n"
     ]
    }
   ],
   "source": [
    "sdc = create_date_difference(sdc, 'First_CRSP_date_ncusip6', 'IssueDate', 'dif')\n",
    "condition = return_condition_check(sdc, 'dif')\n",
    "sdc.loc[condition, 'Permno'] = sdc['Permno_ncusip6']\n",
    "print((sdc['Permno']==-999).sum())"
   ]
  },
  {
   "cell_type": "code",
   "execution_count": 166,
   "metadata": {
    "scrolled": true
   },
   "outputs": [
    {
     "name": "stdout",
     "output_type": "stream",
     "text": [
      "11076\n",
      "10314\n",
      "8371\n"
     ]
    }
   ],
   "source": [
    "# dropping non-match companies and duplicates (keep the first duplicates)\n",
    "print(len(sdc))\n",
    "sdc = sdc.loc[sdc['Permno']!=-999, :]\n",
    "print(len(sdc))\n",
    "sdc = sdc.drop_duplicates(subset=['Permno'], keep='first')\n",
    "print(len(sdc))"
   ]
  },
  {
   "cell_type": "code",
   "execution_count": 167,
   "metadata": {},
   "outputs": [],
   "source": [
    "### matching CRSP infor\n",
    "crsp = crsp.sort_values('date')\n",
    "crsp = crsp.drop_duplicates(subset=['PERMNO'], keep='first')\n",
    "crsp = crsp.rename(columns={'date': 'First_CRSP_date', 'PRC': 'Close_price1'})\n",
    "\n",
    "# merge sdc and crsp\n",
    "sdc = pd.merge(sdc, crsp[['First_CRSP_date', 'PERMNO', 'Close_price1', 'RET']], how='left', left_on='Permno', right_on='PERMNO')"
   ]
  },
  {
   "cell_type": "code",
   "execution_count": 168,
   "metadata": {},
   "outputs": [],
   "source": [
    "sdc = sdc.dropna(subset=['NCUSIP'])\n",
    "sdc_2016 = sdc.loc[sdc['IssueDate']<'2016-12-31', :]\n",
    "sdc = sdc.loc[sdc['IssueDate']<'2015-12-31', :]"
   ]
  },
  {
   "cell_type": "code",
   "execution_count": 169,
   "metadata": {},
   "outputs": [
    {
     "data": {
      "text/plain": [
       "8209"
      ]
     },
     "execution_count": 169,
     "metadata": {},
     "output_type": "execute_result"
    }
   ],
   "source": [
    "len(sdc)"
   ]
  },
  {
   "cell_type": "code",
   "execution_count": 170,
   "metadata": {},
   "outputs": [
    {
     "data": {
      "text/plain": [
       "8282"
      ]
     },
     "execution_count": 170,
     "metadata": {},
     "output_type": "execute_result"
    }
   ],
   "source": [
    "len(sdc_2016)"
   ]
  },
  {
   "cell_type": "markdown",
   "metadata": {},
   "source": [
    "### save prepared data"
   ]
  },
  {
   "cell_type": "code",
   "execution_count": 171,
   "metadata": {},
   "outputs": [],
   "source": [
    "sdc.to_pickle(cleaned_folder_path + 'data_prepared.pkl')"
   ]
  },
  {
   "cell_type": "markdown",
   "metadata": {},
   "source": [
    "### <<< comment >>>###\n",
    "\n",
    "Lowry et al. kept 8.543 obs \n",
    "\n",
    "Here we kept 8.209 obs"
   ]
  },
  {
   "cell_type": "markdown",
   "metadata": {},
   "source": [
    "### removing extra variables\n",
    "ipo[,`:=`(First_CRSP_date_ncusip = NULL,First_CRSP_date_ncusip6 = NULL, Permno_ncusip = NULL, Permno_ncusip6 = NULL, dif = NULL)]\n",
    "ipo[, `:=`(REIT = NULL, Unit = NULL, Depositary = NULL, CEF = NULL, CUSIP = NULL, CUSIP9 = NULL)]\n",
    "ipo[, `:=`(IPO_Flag = NULL, Original_IPO_Flag = NULL)]\n",
    "\n",
    "### Dropping wrong share clases and shares traded on other exchanges\n",
    "### Loading CRSP Stock Header Information file\n",
    "crsp.info <- fread(crsp.info.datafile, select = c(\"PERMNO\", \"HSHRCD\", \"HEXCD\"))\n",
    "m <- match(ipo$Permno, crsp.info$PERMNO)\n",
    "ipo[, `:=` (exch = crsp.info$HEXCD[m], shrcd = crsp.info$HSHRCD[m])]"
   ]
  },
  {
   "cell_type": "markdown",
   "metadata": {},
   "source": [
    "### removing extra variables\n",
    "for drop_column in ['REIT', 'Unit', 'CEF', 'CUSIP6', 'CUSIP8', 'CUSIP9', 'IPO', 'OrigIPO']:\n",
    "    # First_CRSP_date_ncusip, First_CRSP_date_ncusip6, Permno_ncusip, Permno_ncusip6, dif, Depositary\n",
    "    sdc_data = sdc_data.drop(columns=drop_column)"
   ]
  }
 ],
 "metadata": {
  "kernelspec": {
   "display_name": "Python 3",
   "language": "python",
   "name": "python3"
  },
  "language_info": {
   "codemirror_mode": {
    "name": "ipython",
    "version": 3
   },
   "file_extension": ".py",
   "mimetype": "text/x-python",
   "name": "python",
   "nbconvert_exporter": "python",
   "pygments_lexer": "ipython3",
   "version": "3.7.4"
  },
  "pycharm": {
   "stem_cell": {
    "cell_type": "raw",
    "metadata": {
     "collapsed": false
    },
    "source": []
   }
  }
 },
 "nbformat": 4,
 "nbformat_minor": 1
}
