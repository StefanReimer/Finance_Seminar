{
 "cells": [
  {
   "cell_type": "markdown",
   "metadata": {},
   "source": [
    "# extensive data exploration"
   ]
  },
  {
   "cell_type": "markdown",
   "metadata": {},
   "source": [
    "## NA analysis"
   ]
  },
  {
   "cell_type": "code",
   "execution_count": null,
   "metadata": {},
   "outputs": [],
   "source": [
    "# Question: how many values are often missing?\n",
    "na_freq = sdc_data.isna().sum()\n",
    "na_freq = na_freq/sdc_data.shape[0]\n",
    "print(na_freq[na_freq>0.85])"
   ]
  },
  {
   "cell_type": "code",
   "execution_count": 2,
   "metadata": {},
   "outputs": [
    {
     "ename": "NameError",
     "evalue": "name 'collections' is not defined",
     "output_type": "error",
     "traceback": [
      "\u001b[1;31m---------------------------------------------------------------------------\u001b[0m",
      "\u001b[1;31mNameError\u001b[0m                                 Traceback (most recent call last)",
      "\u001b[1;32m<ipython-input-2-dbad94ce11c9>\u001b[0m in \u001b[0;36m<module>\u001b[1;34m\u001b[0m\n\u001b[0;32m      1\u001b[0m \u001b[1;31m# Question: how many IPOs are finished?\u001b[0m\u001b[1;33m\u001b[0m\u001b[1;33m\u001b[0m\u001b[1;33m\u001b[0m\u001b[0m\n\u001b[1;32m----> 2\u001b[1;33m \u001b[0mIPO_Counter\u001b[0m \u001b[1;33m=\u001b[0m \u001b[0mcollections\u001b[0m\u001b[1;33m.\u001b[0m\u001b[0mCounter\u001b[0m\u001b[1;33m(\u001b[0m\u001b[0msdc_data\u001b[0m\u001b[1;33m[\u001b[0m\u001b[1;34m'IPO'\u001b[0m\u001b[1;33m]\u001b[0m\u001b[1;33m)\u001b[0m\u001b[1;33m\u001b[0m\u001b[1;33m\u001b[0m\u001b[0m\n\u001b[0m\u001b[0;32m      3\u001b[0m \u001b[0mprint\u001b[0m\u001b[1;33m(\u001b[0m\u001b[0mIPO_Counter\u001b[0m\u001b[1;33m)\u001b[0m\u001b[1;33m\u001b[0m\u001b[1;33m\u001b[0m\u001b[0m\n\u001b[0;32m      4\u001b[0m \u001b[0mIPO_yes_percentage\u001b[0m \u001b[1;33m=\u001b[0m \u001b[0mIPO_Counter\u001b[0m\u001b[1;33m[\u001b[0m\u001b[1;34m'Yes'\u001b[0m\u001b[1;33m]\u001b[0m\u001b[1;33m/\u001b[0m\u001b[1;33m(\u001b[0m\u001b[0mIPO_Counter\u001b[0m\u001b[1;33m[\u001b[0m\u001b[1;34m'Yes'\u001b[0m\u001b[1;33m]\u001b[0m\u001b[1;33m+\u001b[0m\u001b[0mIPO_Counter\u001b[0m\u001b[1;33m[\u001b[0m\u001b[1;34m'No'\u001b[0m\u001b[1;33m]\u001b[0m\u001b[1;33m)\u001b[0m\u001b[1;33m\u001b[0m\u001b[1;33m\u001b[0m\u001b[0m\n\u001b[0;32m      5\u001b[0m \u001b[0mprint\u001b[0m\u001b[1;33m(\u001b[0m\u001b[1;34mf\"{IPO_yes_percentage} percent of the data points finished the IPO.\"\u001b[0m\u001b[1;33m)\u001b[0m\u001b[1;33m\u001b[0m\u001b[1;33m\u001b[0m\u001b[0m\n",
      "\u001b[1;31mNameError\u001b[0m: name 'collections' is not defined"
     ]
    }
   ],
   "source": [
    "# Question: how many IPOs are finished?\n",
    "IPO_Counter = collections.Counter(sdc_data['IPO'])\n",
    "print(IPO_Counter)\n",
    "IPO_yes_percentage = IPO_Counter['Yes']/(IPO_Counter['Yes']+IPO_Counter['No'])\n",
    "print(f\"{IPO_yes_percentage} percent of the data points finished the IPO.\")"
   ]
  },
  {
   "cell_type": "code",
   "execution_count": null,
   "metadata": {},
   "outputs": [],
   "source": [
    "# Question: Are many missing values in the companies, that finished the IPO?\n",
    "na_freq_of_finished_ipos = sdc_data.loc[sdc_data['IPO']=='Yes'].isna().sum()\n",
    "na_freq_of_finished_ipos = na_freq_of_finished_ipos/sdc_data.loc[sdc_data['IPO']=='Yes'].shape[0]\n",
    "print(na_freq_of_finished_ipos)"
   ]
  },
  {
   "cell_type": "markdown",
   "metadata": {},
   "source": [
    "## duplicate analysis"
   ]
  },
  {
   "cell_type": "code",
   "execution_count": null,
   "metadata": {},
   "outputs": [],
   "source": [
    "# get the duplicates for choosen columns\n",
    "duplicated_issuers = get_duplicates(sdc_data, 'Issuer')\n",
    "duplicated_IPO_issuers = get_duplicates(sdc_data.loc[sdc_data['IPO']=='Yes', :], 'Issuer', ' (only fulfilled IPOs)')\n",
    "duplicated_CUSIP6 = get_duplicates(sdc_data, 'CUSIP6')\n",
    "duplicated_indices = sdc_data.index.duplicated().sum()\n",
    "print(f'There are {duplicated_indices} duplicated indices.')"
   ]
  },
  {
   "cell_type": "code",
   "execution_count": null,
   "metadata": {},
   "outputs": [],
   "source": [
    "# show number of duplicates for all columns\n",
    "#for column in sdc_data.columns.values:\n",
    "#    duplicated_issuers = get_duplicates(sdc_data, column)"
   ]
  },
  {
   "cell_type": "code",
   "execution_count": null,
   "metadata": {},
   "outputs": [],
   "source": [
    "# get and inspect the duplicated rows\n",
    "duplicated_issuers_true = duplicated_issuers[duplicated_issuers == 1]\n",
    "duplicated_issuers_values = sdc_data.loc[sdc_data.index.isin(duplicated_issuers_true.index), :][['Issuer', 'CUSIP9', 'IPO']]\n",
    "duplicated_issuers_values = duplicated_issuers_values.sort_values('CUSIP9')\n",
    "print(duplicated_issuers_values.head(70))\n",
    "# inspect choosen duplicates\n",
    "#sdc_data.loc[sdc_data['Issuer'] == 'AMAX Inc', :]\n",
    "#sdc_data.loc[sdc_data['Issuer'] == 'ADMA Biologics Inc', :]"
   ]
  },
  {
   "cell_type": "markdown",
   "metadata": {},
   "source": [
    "# price information"
   ]
  },
  {
   "cell_type": "code",
   "execution_count": null,
   "metadata": {},
   "outputs": [],
   "source": [
    "#sdc_data[price_cols].notna().sum()\n",
    "\n",
    "#sdc_data[price_cols].isna().sum()\n",
    "\n",
    "# IPO data points with total missing pricing information before IPO\n",
    "#sdc_data.loc[(sdc_data[\"AmendedHighFilingPrice\"].isna()) & \n",
    "#             (sdc_data[\"OriginalHighFilingPrice\"].isna()) & \n",
    "#             (sdc_data[\"HighPriceOfFilingPriceRnge\"].isna()) &\n",
    "#             (sdc_data['IPO'] == 'Yes'), :]\n",
    "\n",
    "# 1923 data rows are missing with price information"
   ]
  }
 ],
 "metadata": {
  "kernelspec": {
   "display_name": "Python 3",
   "language": "python",
   "name": "python3"
  },
  "language_info": {
   "codemirror_mode": {
    "name": "ipython",
    "version": 3
   },
   "file_extension": ".py",
   "mimetype": "text/x-python",
   "name": "python",
   "nbconvert_exporter": "python",
   "pygments_lexer": "ipython3",
   "version": "3.7.4"
  }
 },
 "nbformat": 4,
 "nbformat_minor": 2
}
