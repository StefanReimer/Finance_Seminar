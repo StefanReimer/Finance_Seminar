{
 "cells": [
  {
   "cell_type": "markdown",
   "metadata": {},
   "source": [
    "# Finance V: Research Topics in Finance, Risk- and Resource management \n",
    "## Replication of paper: Lowry, Michaely & Volkova (2017)"
   ]
  },
  {
   "cell_type": "markdown",
   "metadata": {},
   "source": [
    "<blockquote>\n",
    "    Author: Stefan Reimer <br>\n",
    "    Date: 2019-12-28 <br>\n",
    "    python version: 3.7 <br>\n",
    "</blockquote>"
   ]
  },
  {
   "cell_type": "code",
   "execution_count": 18,
   "metadata": {
    "pycharm": {
     "is_executing": false,
     "name": "#%% import needed packages\n"
    }
   },
   "outputs": [],
   "source": [
    "%reload_ext autoreload\n",
    "%autoreload 2\n",
    "\n",
    "import numpy as np\n",
    "import pandas as pd\n",
    "import datetime\n",
    "import matplotlib.pyplot as plt\n",
    "import statsmodels.api as sm\n",
    "import statsmodels.formula.api as smf\n",
    "import re\n",
    "import collections\n",
    "\n",
    "import logging\n",
    "logger = logging.getLogger()\n",
    "logger.setLevel(logging.DEBUG)\n",
    "\n",
    "# import defined functions\n",
    "from src.functions.functions import (data_import_chunkwise, convert_NAs, get_duplicates, \n",
    "                                     find_char_in_colnames, convert_date, convert_price)\n",
    "\n",
    "# set the settings for displayed dataFrames\n",
    "pd.set_option('display.max_columns', None)\n",
    "pd.set_option('display.max_rows', 100)"
   ]
  },
  {
   "cell_type": "markdown",
   "metadata": {},
   "source": [
    "### load cleaned sdc data"
   ]
  },
  {
   "cell_type": "code",
   "execution_count": 19,
   "metadata": {},
   "outputs": [],
   "source": [
    "#%%\n",
    "# define path to files & load data chunkwise\n",
    "\n",
    "initialFolderPath = \"data/initial_data/\"\n",
    "cleanedFolderPath = \"data/cleaned_data/\"\n",
    "\n",
    "sdcPath = cleanedFolderPath + \"sdc_data_cleaned.pkl\"\n",
    "sdc_data = pd.read_pickle(filePath)"
   ]
  },
  {
   "cell_type": "markdown",
   "metadata": {},
   "source": [
    "# Match CRSP and SDC Data"
   ]
  },
  {
   "cell_type": "code",
   "execution_count": 42,
   "metadata": {},
   "outputs": [],
   "source": [
    "# CRSP path to files & load data chunkwise\n",
    "dtype={'PERMNO': float, 'date': str, 'SHRCD': float, \n",
    "       'EXCHCD': float, 'NCUSIP': str, 'CUSIP':str,\n",
    "       'PRC': float, 'RET':str, 'SHROUT':float, \n",
    "       'NCUSIP6':str}\n",
    "\n",
    "\n",
    "folderPath = 'data/initial_data/'\n",
    "#crspFilePath = folderPath + 'crsp_data_without_duplicates.csv'\n",
    "#crspFilePath = folderPath + 'crsp_cusip_19730101_20181231.csv'\n",
    "#crspFilePath = folderPath + 'crsp_ncusip_20180101_20181231.csv'\n",
    "#crspFilePath = folderPath + 'crsp_ncusip_19730101_20181231.csv'\n",
    "#crspFilePath = folderPath + 'crsp_ncusip_19730101_20181231.csv'\n",
    "crsp = pd.read_csv(crspFilePath, dtype=dtype)"
   ]
  },
  {
   "cell_type": "code",
   "execution_count": 44,
   "metadata": {},
   "outputs": [
    {
     "name": "stdout",
     "output_type": "stream",
     "text": [
      "Index(['PERMNO', 'date', 'SHRCD', 'EXCHCD', 'NCUSIP', 'CUSIP', 'PRC', 'RET',\n",
      "       'SHROUT', 'NCUSIP6'],\n",
      "      dtype='object')\n",
      "        PERMNO       date  SHRCD  EXCHCD    NCUSIP     CUSIP    PRC  \\\n",
      "10106  10015.0 1983-01-11   10.0     3.0  00016510  00016510 -6.875   \n",
      "10127  10015.0 1983-01-12   10.0     3.0  00016510  00016510 -8.000   \n",
      "\n",
      "             RET  SHROUT NCUSIP6  \n",
      "10106   0.000000  3568.0  000165  \n",
      "10127  -0.015385  3568.0  000165  \n",
      "21066632\n",
      "21066632\n"
     ]
    }
   ],
   "source": [
    "# Quick overview\n",
    "print(crsp.columns)\n",
    "print(crsp.head(2))\n",
    "\n",
    "#convert date\n",
    "crsp['date'] = pd.to_datetime(crsp['date'])\n",
    "\n",
    "# sort values for PERMNO and date\n",
    "crsp = crsp.sort_values(['NCUSIP', 'date'])\n",
    "\n",
    "# keep only available prices\n",
    "print(len(crsp))\n",
    "crsp = crsp.loc[~crsp['PRC'].isna(), :]\n",
    "print(len(crsp))\n",
    "\n",
    "# create NCUSIP6\n",
    "crsp['NCUSIP6'] = crsp['NCUSIP'].str.slice(0, 6)\n",
    "\n",
    "#???FILTER FOR crsp <- crsp[SHRCD %in% 10:19 & EXCHCD %in% 1:3] only in PDF???"
   ]
  },
  {
   "cell_type": "code",
   "execution_count": 46,
   "metadata": {
    "scrolled": true
   },
   "outputs": [
    {
     "name": "stdout",
     "output_type": "stream",
     "text": [
      "the dataset contains 21066632 samples. 8951 PERMNO values are unique.\n"
     ]
    }
   ],
   "source": [
    "# print size and unique values\n",
    "unique_PERMNO = len(np.unique(crsp['PERMNO'])) \n",
    "print(f'the dataset contains {len(crsp)} samples.'\n",
    "      f' {unique_PERMNO} PERMNO values are unique.')"
   ]
  },
  {
   "cell_type": "code",
   "execution_count": 11,
   "metadata": {},
   "outputs": [],
   "source": [
    "#crsp_first_ncusip = crsp.drop_duplicates('NCUSIP', keep='first')"
   ]
  },
  {
   "cell_type": "code",
   "execution_count": 47,
   "metadata": {},
   "outputs": [],
   "source": [
    "# create PERMNO_NUCSIP and FirstDate from sdc_data and CRSP\n",
    "test = pd.merge(sdc_data,\n",
    "         crsp[['NCUSIP', 'NCUSIP6', 'date']], \n",
    "         left_on=['CUSIP6', 'IssueDate'], right_on=['NCUSIP6', 'date'],\n",
    "                    how='left')"
   ]
  },
  {
   "cell_type": "code",
   "execution_count": 52,
   "metadata": {},
   "outputs": [
    {
     "data": {
      "text/plain": [
       "4263"
      ]
     },
     "execution_count": 52,
     "metadata": {},
     "output_type": "execute_result"
    }
   ],
   "source": [
    "test['date'].notna().sum()\n",
    "test['dif'] = test['date'] - test['IssueDate']\n",
    "test['dif'] = test['dif'].dt.days\n",
    "test['dif'].notna().sum()"
   ]
  },
  {
   "cell_type": "code",
   "execution_count": 53,
   "metadata": {},
   "outputs": [
    {
     "data": {
      "text/plain": [
       "4263"
      ]
     },
     "execution_count": 53,
     "metadata": {},
     "output_type": "execute_result"
    }
   ],
   "source": [
    "condition = ((test['dif']>=-1) &\n",
    "             (test['dif']<=7) & \n",
    "             (test['dif'].notna()))\n",
    "condition.sum()"
   ]
  },
  {
   "cell_type": "code",
   "execution_count": 37,
   "metadata": {},
   "outputs": [],
   "source": [
    "test = test.rename(columns={'date': 'First_CRSP_date_ncusip6', 'PERMNO': 'Permno_ncusip6'})"
   ]
  },
  {
   "cell_type": "code",
   "execution_count": 12,
   "metadata": {},
   "outputs": [],
   "source": [
    "# create PERMNO_NUCSIP and FirstDate from sdc_data and CRSP\n",
    "test = pd.merge(sdc_data,\n",
    "         crsp[['CUSIP', 'CUSIP6' 'date']], \n",
    "         left_on=['CUSIP6', 'IssueDate'], right_on=['CUSIP6', 'date']\n",
    "                    how='left')\n",
    "test = test.rename(columns={'date': 'First_CRSP_date_ncusip', 'PERMNO': 'Permno_ncusip'})\n",
    "\n",
    "# create PERMNO_NUCSIP6 and FirstDate from sdc_data and CRSP\n",
    "test = pd.merge(test,\n",
    "         crsp_first_ncusip[['NCUSIP6', 'date']], \n",
    "         left_on='CUSIP6', right_on='NCUSIP6',\n",
    "                    how='left')\n",
    "test = test.rename(columns={'date': 'First_CRSP_date_ncusip6', 'PERMNO': 'Permno_ncusip6'})\n",
    "\n",
    "#print(permno_ncusip['NCUSIP'].isna().sum())\n",
    "\n"
   ]
  },
  {
   "cell_type": "code",
   "execution_count": 27,
   "metadata": {},
   "outputs": [
    {
     "ename": "KeyError",
     "evalue": "\"['CUSIP6'] not in index\"",
     "output_type": "error",
     "traceback": [
      "\u001b[1;31m---------------------------------------------------------------------------\u001b[0m",
      "\u001b[1;31mKeyError\u001b[0m                                  Traceback (most recent call last)",
      "\u001b[1;32m<ipython-input-27-9038d659f819>\u001b[0m in \u001b[0;36m<module>\u001b[1;34m\u001b[0m\n\u001b[0;32m      8\u001b[0m \u001b[1;31m# create PERMNO_NUCSIP6 and FirstDate from sdc_data and CRSP\u001b[0m\u001b[1;33m\u001b[0m\u001b[1;33m\u001b[0m\u001b[1;33m\u001b[0m\u001b[0m\n\u001b[0;32m      9\u001b[0m test = pd.merge(test,\n\u001b[1;32m---> 10\u001b[1;33m          \u001b[0mcrsp_first_ncusip\u001b[0m\u001b[1;33m[\u001b[0m\u001b[1;33m[\u001b[0m\u001b[1;34m'CUSIP6'\u001b[0m\u001b[1;33m,\u001b[0m \u001b[1;34m'date'\u001b[0m\u001b[1;33m]\u001b[0m\u001b[1;33m]\u001b[0m\u001b[1;33m,\u001b[0m\u001b[1;33m\u001b[0m\u001b[1;33m\u001b[0m\u001b[0m\n\u001b[0m\u001b[0;32m     11\u001b[0m          \u001b[0mleft_on\u001b[0m\u001b[1;33m=\u001b[0m\u001b[1;34m'CUSIP6'\u001b[0m\u001b[1;33m,\u001b[0m \u001b[0mright_on\u001b[0m\u001b[1;33m=\u001b[0m\u001b[1;34m'CUSIP6'\u001b[0m\u001b[1;33m,\u001b[0m\u001b[1;33m\u001b[0m\u001b[1;33m\u001b[0m\u001b[0m\n\u001b[0;32m     12\u001b[0m                     how='left')\n",
      "\u001b[1;32m~\\Anaconda3\\lib\\site-packages\\pandas\\core\\frame.py\u001b[0m in \u001b[0;36m__getitem__\u001b[1;34m(self, key)\u001b[0m\n\u001b[0;32m   2984\u001b[0m             \u001b[1;32mif\u001b[0m \u001b[0mis_iterator\u001b[0m\u001b[1;33m(\u001b[0m\u001b[0mkey\u001b[0m\u001b[1;33m)\u001b[0m\u001b[1;33m:\u001b[0m\u001b[1;33m\u001b[0m\u001b[1;33m\u001b[0m\u001b[0m\n\u001b[0;32m   2985\u001b[0m                 \u001b[0mkey\u001b[0m \u001b[1;33m=\u001b[0m \u001b[0mlist\u001b[0m\u001b[1;33m(\u001b[0m\u001b[0mkey\u001b[0m\u001b[1;33m)\u001b[0m\u001b[1;33m\u001b[0m\u001b[1;33m\u001b[0m\u001b[0m\n\u001b[1;32m-> 2986\u001b[1;33m             \u001b[0mindexer\u001b[0m \u001b[1;33m=\u001b[0m \u001b[0mself\u001b[0m\u001b[1;33m.\u001b[0m\u001b[0mloc\u001b[0m\u001b[1;33m.\u001b[0m\u001b[0m_convert_to_indexer\u001b[0m\u001b[1;33m(\u001b[0m\u001b[0mkey\u001b[0m\u001b[1;33m,\u001b[0m \u001b[0maxis\u001b[0m\u001b[1;33m=\u001b[0m\u001b[1;36m1\u001b[0m\u001b[1;33m,\u001b[0m \u001b[0mraise_missing\u001b[0m\u001b[1;33m=\u001b[0m\u001b[1;32mTrue\u001b[0m\u001b[1;33m)\u001b[0m\u001b[1;33m\u001b[0m\u001b[1;33m\u001b[0m\u001b[0m\n\u001b[0m\u001b[0;32m   2987\u001b[0m \u001b[1;33m\u001b[0m\u001b[0m\n\u001b[0;32m   2988\u001b[0m         \u001b[1;31m# take() does not accept boolean indexers\u001b[0m\u001b[1;33m\u001b[0m\u001b[1;33m\u001b[0m\u001b[1;33m\u001b[0m\u001b[0m\n",
      "\u001b[1;32m~\\Anaconda3\\lib\\site-packages\\pandas\\core\\indexing.py\u001b[0m in \u001b[0;36m_convert_to_indexer\u001b[1;34m(self, obj, axis, is_setter, raise_missing)\u001b[0m\n\u001b[0;32m   1283\u001b[0m                 \u001b[1;31m# When setting, missing keys are not allowed, even with .loc:\u001b[0m\u001b[1;33m\u001b[0m\u001b[1;33m\u001b[0m\u001b[1;33m\u001b[0m\u001b[0m\n\u001b[0;32m   1284\u001b[0m                 \u001b[0mkwargs\u001b[0m \u001b[1;33m=\u001b[0m \u001b[1;33m{\u001b[0m\u001b[1;34m\"raise_missing\"\u001b[0m\u001b[1;33m:\u001b[0m \u001b[1;32mTrue\u001b[0m \u001b[1;32mif\u001b[0m \u001b[0mis_setter\u001b[0m \u001b[1;32melse\u001b[0m \u001b[0mraise_missing\u001b[0m\u001b[1;33m}\u001b[0m\u001b[1;33m\u001b[0m\u001b[1;33m\u001b[0m\u001b[0m\n\u001b[1;32m-> 1285\u001b[1;33m                 \u001b[1;32mreturn\u001b[0m \u001b[0mself\u001b[0m\u001b[1;33m.\u001b[0m\u001b[0m_get_listlike_indexer\u001b[0m\u001b[1;33m(\u001b[0m\u001b[0mobj\u001b[0m\u001b[1;33m,\u001b[0m \u001b[0maxis\u001b[0m\u001b[1;33m,\u001b[0m \u001b[1;33m**\u001b[0m\u001b[0mkwargs\u001b[0m\u001b[1;33m)\u001b[0m\u001b[1;33m[\u001b[0m\u001b[1;36m1\u001b[0m\u001b[1;33m]\u001b[0m\u001b[1;33m\u001b[0m\u001b[1;33m\u001b[0m\u001b[0m\n\u001b[0m\u001b[0;32m   1286\u001b[0m         \u001b[1;32melse\u001b[0m\u001b[1;33m:\u001b[0m\u001b[1;33m\u001b[0m\u001b[1;33m\u001b[0m\u001b[0m\n\u001b[0;32m   1287\u001b[0m             \u001b[1;32mtry\u001b[0m\u001b[1;33m:\u001b[0m\u001b[1;33m\u001b[0m\u001b[1;33m\u001b[0m\u001b[0m\n",
      "\u001b[1;32m~\\Anaconda3\\lib\\site-packages\\pandas\\core\\indexing.py\u001b[0m in \u001b[0;36m_get_listlike_indexer\u001b[1;34m(self, key, axis, raise_missing)\u001b[0m\n\u001b[0;32m   1090\u001b[0m \u001b[1;33m\u001b[0m\u001b[0m\n\u001b[0;32m   1091\u001b[0m         self._validate_read_indexer(\n\u001b[1;32m-> 1092\u001b[1;33m             \u001b[0mkeyarr\u001b[0m\u001b[1;33m,\u001b[0m \u001b[0mindexer\u001b[0m\u001b[1;33m,\u001b[0m \u001b[0mo\u001b[0m\u001b[1;33m.\u001b[0m\u001b[0m_get_axis_number\u001b[0m\u001b[1;33m(\u001b[0m\u001b[0maxis\u001b[0m\u001b[1;33m)\u001b[0m\u001b[1;33m,\u001b[0m \u001b[0mraise_missing\u001b[0m\u001b[1;33m=\u001b[0m\u001b[0mraise_missing\u001b[0m\u001b[1;33m\u001b[0m\u001b[1;33m\u001b[0m\u001b[0m\n\u001b[0m\u001b[0;32m   1093\u001b[0m         )\n\u001b[0;32m   1094\u001b[0m         \u001b[1;32mreturn\u001b[0m \u001b[0mkeyarr\u001b[0m\u001b[1;33m,\u001b[0m \u001b[0mindexer\u001b[0m\u001b[1;33m\u001b[0m\u001b[1;33m\u001b[0m\u001b[0m\n",
      "\u001b[1;32m~\\Anaconda3\\lib\\site-packages\\pandas\\core\\indexing.py\u001b[0m in \u001b[0;36m_validate_read_indexer\u001b[1;34m(self, key, indexer, axis, raise_missing)\u001b[0m\n\u001b[0;32m   1183\u001b[0m             \u001b[1;32mif\u001b[0m \u001b[1;32mnot\u001b[0m \u001b[1;33m(\u001b[0m\u001b[0mself\u001b[0m\u001b[1;33m.\u001b[0m\u001b[0mname\u001b[0m \u001b[1;33m==\u001b[0m \u001b[1;34m\"loc\"\u001b[0m \u001b[1;32mand\u001b[0m \u001b[1;32mnot\u001b[0m \u001b[0mraise_missing\u001b[0m\u001b[1;33m)\u001b[0m\u001b[1;33m:\u001b[0m\u001b[1;33m\u001b[0m\u001b[1;33m\u001b[0m\u001b[0m\n\u001b[0;32m   1184\u001b[0m                 \u001b[0mnot_found\u001b[0m \u001b[1;33m=\u001b[0m \u001b[0mlist\u001b[0m\u001b[1;33m(\u001b[0m\u001b[0mset\u001b[0m\u001b[1;33m(\u001b[0m\u001b[0mkey\u001b[0m\u001b[1;33m)\u001b[0m \u001b[1;33m-\u001b[0m \u001b[0mset\u001b[0m\u001b[1;33m(\u001b[0m\u001b[0max\u001b[0m\u001b[1;33m)\u001b[0m\u001b[1;33m)\u001b[0m\u001b[1;33m\u001b[0m\u001b[1;33m\u001b[0m\u001b[0m\n\u001b[1;32m-> 1185\u001b[1;33m                 \u001b[1;32mraise\u001b[0m \u001b[0mKeyError\u001b[0m\u001b[1;33m(\u001b[0m\u001b[1;34m\"{} not in index\"\u001b[0m\u001b[1;33m.\u001b[0m\u001b[0mformat\u001b[0m\u001b[1;33m(\u001b[0m\u001b[0mnot_found\u001b[0m\u001b[1;33m)\u001b[0m\u001b[1;33m)\u001b[0m\u001b[1;33m\u001b[0m\u001b[1;33m\u001b[0m\u001b[0m\n\u001b[0m\u001b[0;32m   1186\u001b[0m \u001b[1;33m\u001b[0m\u001b[0m\n\u001b[0;32m   1187\u001b[0m             \u001b[1;31m# we skip the warning on Categorical/Interval\u001b[0m\u001b[1;33m\u001b[0m\u001b[1;33m\u001b[0m\u001b[1;33m\u001b[0m\u001b[0m\n",
      "\u001b[1;31mKeyError\u001b[0m: \"['CUSIP6'] not in index\""
     ]
    }
   ],
   "source": [
    "# create PERMNO_NUCSIP and FirstDate from sdc_data and CRSP\n",
    "test = pd.merge(sdc_data,\n",
    "         crsp_first_ncusip[['CUSIP', 'date']], \n",
    "         left_on='CUSIP8', right_on='CUSIP',\n",
    "                    how='left')\n",
    "test = test.rename(columns={'date': 'First_CRSP_date_ncusip', 'PERMNO': 'Permno_ncusip'})\n",
    "\n",
    "# create PERMNO_NUCSIP6 and FirstDate from sdc_data and CRSP\n",
    "test = pd.merge(test,\n",
    "         crsp_first_ncusip[['CUSIP6', 'date']], \n",
    "         left_on='CUSIP6', right_on='CUSIP6',\n",
    "                    how='left')\n",
    "test = test.rename(columns={'date': 'First_CRSP_date_ncusip6', 'PERMNO': 'Permno_ncusip6'})\n",
    "\n",
    "#print(permno_ncusip['NCUSIP'].isna().sum())\n",
    "\n"
   ]
  },
  {
   "cell_type": "code",
   "execution_count": 13,
   "metadata": {},
   "outputs": [
    {
     "data": {
      "text/plain": [
       "2994"
      ]
     },
     "execution_count": 13,
     "metadata": {},
     "output_type": "execute_result"
    }
   ],
   "source": [
    "test['First_CRSP_date_ncusip'].notna().sum()"
   ]
  },
  {
   "cell_type": "code",
   "execution_count": null,
   "metadata": {},
   "outputs": [],
   "source": [
    "## create PERMNO_NUCSIP and FirstDate from sdc_data and CRSP\n",
    "#test = pd.merge(sdc_data,\n",
    "#         crsp_first_ncusip[['CUSIP', 'date']], \n",
    "#         left_on='CUSIP8', right_on='CUSIP',\n",
    "#                    how='left')\n",
    "#test = test.rename(columns={'date': 'First_CRSP_date_ncusip', 'PERMNO': 'Permno_ncusip'})\n",
    "\n",
    "# create PERMNO_NUCSIP6 and FirstDate from sdc_data and CRSP\n",
    "test = pd.merge(sdc_data,\n",
    "         crsp_first_ncusip[['NCUSIP6', 'date']], \n",
    "         left_on='CUSIP6', right_on='NCUSIP6',\n",
    "                    how='left')\n",
    "test = test.rename(columns={'date': 'First_CRSP_date_ncusip6', 'PERMNO': 'Permno_ncusip6'})\n",
    "\n",
    "#print(permno_ncusip['NCUSIP'].isna().sum())\n",
    "\n"
   ]
  },
  {
   "cell_type": "code",
   "execution_count": null,
   "metadata": {},
   "outputs": [],
   "source": [
    "test"
   ]
  },
  {
   "cell_type": "code",
   "execution_count": null,
   "metadata": {},
   "outputs": [],
   "source": [
    "# create PERMNO_NUCSIP and FirstDate from sdc_data and CRSP#\n",
    "sdc_data = pd.merge(sdc_data,\n",
    "         crsp[['NCUSIP', 'PERMNO', 'date']], \n",
    "         left_on='CUSIP8', right_on='NCUSIP',\n",
    "                    how='left')\n",
    "sdc_data = sdc_data.rename(columns={'date': 'First_CRSP_date_ncusip', 'PERMNO': 'Permno_ncusip'})\n",
    "\n",
    "# create PERMNO_NUCSIP6 and FirstDate from sdc_data and CRSP\n",
    "sdc_data = pd.merge(sdc_data,\n",
    "         crsp[['NCUSIP6', 'PERMNO', 'date']], \n",
    "         left_on='CUSIP6', right_on='NCUSIP6',\n",
    "                    how='left')\n",
    "sdc_data = sdc_data.rename(columns={'date': 'First_CRSP_date_ncusip6', 'PERMNO': 'Permno_ncusip6'})\n",
    "\n",
    "#print(permno_ncusip['NCUSIP'].isna().sum())"
   ]
  },
  {
   "cell_type": "code",
   "execution_count": 38,
   "metadata": {
    "scrolled": true
   },
   "outputs": [],
   "source": [
    "test['dif'] = test['First_CRSP_date_ncusip6'] - test['IssueDate']\n",
    "test['dif'] = test['dif'].dt.days"
   ]
  },
  {
   "cell_type": "code",
   "execution_count": 40,
   "metadata": {
    "scrolled": true
   },
   "outputs": [
    {
     "data": {
      "text/plain": [
       "172"
      ]
     },
     "execution_count": 40,
     "metadata": {},
     "output_type": "execute_result"
    }
   ],
   "source": [
    "test['First_CRSP_date_ncusip6'].notna().sum()"
   ]
  },
  {
   "cell_type": "code",
   "execution_count": null,
   "metadata": {},
   "outputs": [],
   "source": [
    "condition = ((test['dif']>=-60) &\n",
    "             (test['dif']<=50) & \n",
    "             (test['dif'].notna()))"
   ]
  },
  {
   "cell_type": "code",
   "execution_count": 16,
   "metadata": {},
   "outputs": [],
   "source": [
    "condition = ((test['dif']>=-1) &\n",
    "             (test['dif']<=7) & \n",
    "             (test['dif'].notna()))"
   ]
  },
  {
   "cell_type": "code",
   "execution_count": 17,
   "metadata": {},
   "outputs": [
    {
     "data": {
      "text/plain": [
       "46"
      ]
     },
     "execution_count": 17,
     "metadata": {},
     "output_type": "execute_result"
    }
   ],
   "source": [
    "condition.sum()"
   ]
  },
  {
   "cell_type": "code",
   "execution_count": null,
   "metadata": {
    "scrolled": true
   },
   "outputs": [],
   "source": [
    "print(sdc_data['First_CRSP_date_ncusip'].isna().sum())\n",
    "print(sdc_data['dif'].isna().sum())"
   ]
  },
  {
   "cell_type": "code",
   "execution_count": null,
   "metadata": {},
   "outputs": [],
   "source": [
    "sdc_data['Permno'] = -999"
   ]
  },
  {
   "cell_type": "code",
   "execution_count": null,
   "metadata": {},
   "outputs": [],
   "source": [
    "condition = ((sdc_data['dif']>=-1) &\n",
    "             (sdc_data['dif']<=7) & \n",
    "             (sdc_data['dif'].notna()))"
   ]
  },
  {
   "cell_type": "code",
   "execution_count": null,
   "metadata": {},
   "outputs": [],
   "source": [
    "sdc_data['CUSIP8'].values"
   ]
  },
  {
   "cell_type": "code",
   "execution_count": null,
   "metadata": {},
   "outputs": [],
   "source": [
    "np.savetxt(cleanedFolderPath + 'CUSIP8.txt', sdc_data['CUSIP8'].values, fmt='%s')"
   ]
  },
  {
   "cell_type": "code",
   "execution_count": null,
   "metadata": {},
   "outputs": [],
   "source": [
    "condition.sum()\n",
    "# by fulfilling the same calculation as Lowry et al., the sample size gets \n",
    "# from 10.627 reduced to 330"
   ]
  },
  {
   "cell_type": "code",
   "execution_count": null,
   "metadata": {},
   "outputs": [],
   "source": [
    "sdc_data = test"
   ]
  },
  {
   "cell_type": "code",
   "execution_count": null,
   "metadata": {},
   "outputs": [],
   "source": [
    "# take PERMNO_CUSIP under condition\n",
    "sdc_data['Permno'] = -999\n",
    "sdc_data['dif'] = sdc_data['First_CRSP_date_ncusip'] - sdc_data['IssueDate']\n",
    "sdc_data['dif'] = sdc_data['dif'].dt.days\n",
    "condition = ((sdc_data['dif']>=-1) &\n",
    "             (sdc_data['dif']<=7) & \n",
    "             (sdc_data['Permno'] == -999) &\n",
    "             (sdc_data['dif'].notna()))\n",
    "sdc_data['Permno'] = sdc_data['Permno'].where(~condition,\n",
    "                         sdc_data['Permno_ncusip'])"
   ]
  },
  {
   "cell_type": "code",
   "execution_count": null,
   "metadata": {},
   "outputs": [],
   "source": [
    "# take PERMNO_CUSIP6 under condition\n",
    "sdc_data['dif'] = sdc_data['First_CRSP_date_ncusip6'] - sdc_data['IssueDate']\n",
    "sdc_data['dif'] = sdc_data['dif'].dt.days\n",
    "condition = ((sdc_data['dif']>=-1) &\n",
    "             (sdc_data['dif']<=7) & \n",
    "             (sdc_data['Permno'] == -999) &\n",
    "             (sdc_data['dif'].notna()))\n",
    "sdc_data['Permno'] = sdc_data['Permno'].where(~condition,\n",
    "                         sdc_data['Permno_ncusip6'])"
   ]
  },
  {
   "cell_type": "code",
   "execution_count": null,
   "metadata": {
    "scrolled": true
   },
   "outputs": [],
   "source": [
    "sdc_data[sdc_data['Permno'] == -999]"
   ]
  },
  {
   "cell_type": "code",
   "execution_count": null,
   "metadata": {},
   "outputs": [],
   "source": [
    "only_relevant_values = sdc_data[['CUSIP6', 'IssueDate', 'Permno_ncusip', 'First_CRSP_date_ncusip', 'NCUSIP6', 'Permno_ncusip6', 'First_CRSP_date_ncusip6', 'dif' ]]\n",
    "only_relevant_values.head(100)"
   ]
  },
  {
   "cell_type": "code",
   "execution_count": null,
   "metadata": {},
   "outputs": [],
   "source": [
    "collections.Counter(sdc_data['dif'])"
   ]
  },
  {
   "cell_type": "code",
   "execution_count": null,
   "metadata": {},
   "outputs": [],
   "source": [
    "# exclude observations without CRSP record\n",
    "test = sdc_data[sdc_data['Permno'] != -999]"
   ]
  },
  {
   "cell_type": "code",
   "execution_count": null,
   "metadata": {},
   "outputs": [],
   "source": [
    "test"
   ]
  },
  {
   "cell_type": "code",
   "execution_count": 83,
   "metadata": {
    "scrolled": true
   },
   "outputs": [
    {
     "data": {
      "text/html": [
       "<div>\n",
       "<style scoped>\n",
       "    .dataframe tbody tr th:only-of-type {\n",
       "        vertical-align: middle;\n",
       "    }\n",
       "\n",
       "    .dataframe tbody tr th {\n",
       "        vertical-align: top;\n",
       "    }\n",
       "\n",
       "    .dataframe thead th {\n",
       "        text-align: right;\n",
       "    }\n",
       "</style>\n",
       "<table border=\"1\" class=\"dataframe\">\n",
       "  <thead>\n",
       "    <tr style=\"text-align: right;\">\n",
       "      <th></th>\n",
       "      <th>DealNumber</th>\n",
       "      <th>CIK</th>\n",
       "      <th>CUSIP6</th>\n",
       "      <th>CUSIP9</th>\n",
       "      <th>Issuer</th>\n",
       "      <th>FilingDate</th>\n",
       "      <th>IssueDate</th>\n",
       "      <th>IPO</th>\n",
       "      <th>OrigIPO</th>\n",
       "      <th>Type</th>\n",
       "      <th>REIT</th>\n",
       "      <th>ADR</th>\n",
       "      <th>Unit</th>\n",
       "      <th>CEF</th>\n",
       "      <th>MainSICCode</th>\n",
       "      <th>Units</th>\n",
       "      <th>SpinOff</th>\n",
       "      <th>ForeignIssue</th>\n",
       "      <th>TrackingStockIssue</th>\n",
       "      <th>BestEftFirmCmtBghtDl</th>\n",
       "      <th>OfferPrice</th>\n",
       "      <th>SharesOutstandingAfterTheOffering</th>\n",
       "      <th>SharesOutstandingBeforeOffering</th>\n",
       "      <th>SharesOfferedSumOfAllMkts</th>\n",
       "      <th>SharesOfrdIncOverSoldSumOfAllMkts</th>\n",
       "      <th>PrimaryShsOfrdSumOfAllMkts</th>\n",
       "      <th>SecondaryShsOfrdSumOfAllMkts</th>\n",
       "      <th>OverallotAmtOptionSumOfAllMktsMil</th>\n",
       "      <th>OverallotAmtSoldSumOfAllMktsmil</th>\n",
       "      <th>TotGlobalOverallotmentSharesSold</th>\n",
       "      <th>SharesFiledSumOfAllMkts</th>\n",
       "      <th>PrimaryShsFiledSumOfAllMkts</th>\n",
       "      <th>SecondaryShsFiledSumOfAllMkts</th>\n",
       "      <th>AmendedShsFiledSumOfAllMkts</th>\n",
       "      <th>AmendedPrimaryShsFiledSumOfAllMkts</th>\n",
       "      <th>AmendedSecondaryShsFiledSumOfAllMkts</th>\n",
       "      <th>AmendMentDate</th>\n",
       "      <th>AmendHistShsFiledSumOfAllMkts</th>\n",
       "      <th>AmendHistSecShsFiledSumOfAllMkts</th>\n",
       "      <th>AmendHistOverallotShsOptionSumOfAllMkts</th>\n",
       "      <th>TickerAtIssue</th>\n",
       "      <th>TickerUltimateParents</th>\n",
       "      <th>TickerCurrent</th>\n",
       "      <th>TickerSpinOffParent</th>\n",
       "      <th>AllManagers_x</th>\n",
       "      <th>NonBookrunners</th>\n",
       "      <th>AllManagersParentsCode</th>\n",
       "      <th>AllMgrRoleCode</th>\n",
       "      <th>Managers_x</th>\n",
       "      <th>CoManagers</th>\n",
       "      <th>LeadManager</th>\n",
       "      <th>ManagerAgentsLawyersCode</th>\n",
       "      <th>DomesticSyndicateMemberCode</th>\n",
       "      <th>Bookrunners_x</th>\n",
       "      <th>BookrunnersParent</th>\n",
       "      <th>VentureBacked</th>\n",
       "      <th>FirmName</th>\n",
       "      <th>FundName</th>\n",
       "      <th>RoundNumberOfInvesTors</th>\n",
       "      <th>DisclosedRoundTotalmil</th>\n",
       "      <th>RoundDate</th>\n",
       "      <th>TotalKnownAmtInvestedInCompany000</th>\n",
       "      <th>AllManagers_y</th>\n",
       "      <th>Bookrunners_y</th>\n",
       "      <th>LeadManagersLongName</th>\n",
       "      <th>LeadManagers</th>\n",
       "      <th>Managers_y</th>\n",
       "      <th>CoManagersLongName</th>\n",
       "      <th>State</th>\n",
       "      <th>Nation</th>\n",
       "      <th>CurrentExchangeLongDescriptio</th>\n",
       "      <th>AllExchangesWhereIssueWillBeListed_1</th>\n",
       "      <th>AllExchangesWhereIssueWillBeListed_2</th>\n",
       "      <th>ExchangeWhereIssuWillBeLi</th>\n",
       "      <th>AllExchangesWhereIssuersStockTrades</th>\n",
       "      <th>FirstTwoExchangesWhereIssueWillBeListed</th>\n",
       "      <th>SpinParExch</th>\n",
       "      <th>PrimaryExchangeWhereIssuersStockTrades</th>\n",
       "      <th>AmendedHighFilingPrice</th>\n",
       "      <th>AmendedLowFilingPrice</th>\n",
       "      <th>AmendedMiddleOfFilingPrice</th>\n",
       "      <th>HighPriceOfFilingPriceRnge</th>\n",
       "      <th>LowPriceOfFilingPriceRnge</th>\n",
       "      <th>OriginalHighFilingPrice</th>\n",
       "      <th>OriginalLowFilingPrice</th>\n",
       "      <th>OriginalMiddleOfFilingPriceRange</th>\n",
       "      <th>Year</th>\n",
       "      <th>CUSIP8</th>\n",
       "    </tr>\n",
       "  </thead>\n",
       "  <tbody>\n",
       "  </tbody>\n",
       "</table>\n",
       "</div>"
      ],
      "text/plain": [
       "Empty DataFrame\n",
       "Columns: [DealNumber, CIK, CUSIP6, CUSIP9, Issuer, FilingDate, IssueDate, IPO, OrigIPO, Type, REIT, ADR, Unit, CEF, MainSICCode, Units, SpinOff, ForeignIssue, TrackingStockIssue, BestEftFirmCmtBghtDl, OfferPrice, SharesOutstandingAfterTheOffering, SharesOutstandingBeforeOffering, SharesOfferedSumOfAllMkts, SharesOfrdIncOverSoldSumOfAllMkts, PrimaryShsOfrdSumOfAllMkts, SecondaryShsOfrdSumOfAllMkts, OverallotAmtOptionSumOfAllMktsMil, OverallotAmtSoldSumOfAllMktsmil, TotGlobalOverallotmentSharesSold, SharesFiledSumOfAllMkts, PrimaryShsFiledSumOfAllMkts, SecondaryShsFiledSumOfAllMkts, AmendedShsFiledSumOfAllMkts, AmendedPrimaryShsFiledSumOfAllMkts, AmendedSecondaryShsFiledSumOfAllMkts, AmendMentDate, AmendHistShsFiledSumOfAllMkts, AmendHistSecShsFiledSumOfAllMkts, AmendHistOverallotShsOptionSumOfAllMkts, TickerAtIssue, TickerUltimateParents, TickerCurrent, TickerSpinOffParent, AllManagers_x, NonBookrunners, AllManagersParentsCode, AllMgrRoleCode, Managers_x, CoManagers, LeadManager, ManagerAgentsLawyersCode, DomesticSyndicateMemberCode, Bookrunners_x, BookrunnersParent, VentureBacked, FirmName, FundName, RoundNumberOfInvesTors, DisclosedRoundTotalmil, RoundDate, TotalKnownAmtInvestedInCompany000, AllManagers_y, Bookrunners_y, LeadManagersLongName, LeadManagers, Managers_y, CoManagersLongName, State, Nation, CurrentExchangeLongDescriptio, AllExchangesWhereIssueWillBeListed_1, AllExchangesWhereIssueWillBeListed_2, ExchangeWhereIssuWillBeLi, AllExchangesWhereIssuersStockTrades, FirstTwoExchangesWhereIssueWillBeListed, SpinParExch, PrimaryExchangeWhereIssuersStockTrades, AmendedHighFilingPrice, AmendedLowFilingPrice, AmendedMiddleOfFilingPrice, HighPriceOfFilingPriceRnge, LowPriceOfFilingPriceRnge, OriginalHighFilingPrice, OriginalLowFilingPrice, OriginalMiddleOfFilingPriceRange, Year, CUSIP8]\n",
       "Index: []"
      ]
     },
     "execution_count": 83,
     "metadata": {},
     "output_type": "execute_result"
    }
   ],
   "source": [
    "sdc_data.loc[sdc_data['CUSIP6']=='663900', :]"
   ]
  },
  {
   "cell_type": "code",
   "execution_count": null,
   "metadata": {},
   "outputs": [],
   "source": [
    "sdc_data.columns"
   ]
  },
  {
   "cell_type": "markdown",
   "metadata": {},
   "source": [
    "### 11,103 obs ---> 8,995 obs\n",
    "\n",
    "### matching CRSP infor\n",
    "m <- match(ipo$Permno, crsp$PERMNO)\n",
    "ipo[, `:=` (First_CRSP_date = ymd(crsp$date[m]), Close_price1 = abs(crsp$PRC[m]), Close_price2 = abs(crsp$PRC[m + 1]))]\n",
    "\n",
    "### removing extra variables\n",
    "ipo[,`:=`(First_CRSP_date_ncusip = NULL,First_CRSP_date_ncusip6 = NULL, Permno_ncusip = NULL, Permno_ncusip6 = NULL, dif = NULL)]\n",
    "ipo[, `:=`(REIT = NULL, Unit = NULL, Depositary = NULL, CEF = NULL, CUSIP = NULL, CUSIP9 = NULL)]\n",
    "ipo[, `:=`(IPO_Flag = NULL, Original_IPO_Flag = NULL)]\n",
    "\n",
    "\n",
    "### Dropping wrong share clases and shares traded on other exchanges\n",
    "### Loading CRSP Stock Header Information file\n",
    "crsp.info <- fread(crsp.info.datafile, select = c(\"PERMNO\", \"HSHRCD\", \"HEXCD\"))\n",
    "m <- match(ipo$Permno, crsp.info$PERMNO)\n",
    "ipo[, `:=` (exch = crsp.info$HEXCD[m], shrcd = crsp.info$HSHRCD[m])]"
   ]
  },
  {
   "cell_type": "markdown",
   "metadata": {},
   "source": [
    "### removing extra variables\n",
    "for drop_column in ['REIT', 'Unit', 'CEF', 'CUSIP6', 'CUSIP8', 'CUSIP9', 'IPO', 'OrigIPO']:\n",
    "    # First_CRSP_date_ncusip, First_CRSP_date_ncusip6, Permno_ncusip, Permno_ncusip6, dif, Depositary\n",
    "    sdc_data = sdc_data.drop(columns=drop_column)"
   ]
  },
  {
   "cell_type": "code",
   "execution_count": 56,
   "metadata": {},
   "outputs": [],
   "source": [
    "test_plot = test[condition]"
   ]
  },
  {
   "cell_type": "code",
   "execution_count": 70,
   "metadata": {
    "scrolled": true
   },
   "outputs": [
    {
     "data": {
      "text/plain": [
       "<BarContainer object of 44 artists>"
      ]
     },
     "execution_count": 70,
     "metadata": {},
     "output_type": "execute_result"
    },
    {
     "data": {
      "image/png": "[encoded data removed]",
      "text/plain": [
       "<Figure size 432x288 with 1 Axes>"
      ]
     },
     "metadata": {
      "needs_background": "light"
     },
     "output_type": "display_data"
    }
   ],
   "source": [
    "IPO_per_year = test_plot.groupby('Year', as_index =False).count()\n",
    "plt.bar(IPO_per_year['Year'], height=IPO_per_year['IPO'])\n"
   ]
  },
  {
   "cell_type": "code",
   "execution_count": 59,
   "metadata": {
    "scrolled": true
   },
   "outputs": [
    {
     "ename": "TypeError",
     "evalue": "count() takes 1 positional argument but 2 were given",
     "output_type": "error",
     "traceback": [
      "\u001b[1;31m---------------------------------------------------------------------------\u001b[0m",
      "\u001b[1;31mTypeError\u001b[0m                                 Traceback (most recent call last)",
      "\u001b[1;32m<ipython-input-59-7b4d041648fc>\u001b[0m in \u001b[0;36m<module>\u001b[1;34m\u001b[0m\n\u001b[1;32m----> 1\u001b[1;33m \u001b[0mplt\u001b[0m\u001b[1;33m.\u001b[0m\u001b[0mplot\u001b[0m\u001b[1;33m(\u001b[0m\u001b[0mtest_plot\u001b[0m\u001b[1;33m.\u001b[0m\u001b[0mgroupby\u001b[0m\u001b[1;33m(\u001b[0m\u001b[1;34m'Year'\u001b[0m\u001b[1;33m)\u001b[0m\u001b[1;33m.\u001b[0m\u001b[0mcount\u001b[0m\u001b[1;33m(\u001b[0m\u001b[1;34m'IPO'\u001b[0m\u001b[1;33m)\u001b[0m\u001b[1;33m)\u001b[0m\u001b[1;33m\u001b[0m\u001b[1;33m\u001b[0m\u001b[0m\n\u001b[0m",
      "\u001b[1;31mTypeError\u001b[0m: count() takes 1 positional argument but 2 were given"
     ]
    }
   ],
   "source": [
    "plt.plot(test_plot.groupby('Year').count('IPO'))"
   ]
  },
  {
   "cell_type": "code",
   "execution_count": 73,
   "metadata": {},
   "outputs": [],
   "source": [
    "NCUSIP_crsp = np.unique(crsp['NCUSIP'])"
   ]
  },
  {
   "cell_type": "code",
   "execution_count": 75,
   "metadata": {},
   "outputs": [
    {
     "data": {
      "text/plain": [
       "11891"
      ]
     },
     "execution_count": 75,
     "metadata": {},
     "output_type": "execute_result"
    }
   ],
   "source": [
    "len(NCUSIP_crsp)"
   ]
  },
  {
   "cell_type": "markdown",
   "metadata": {},
   "source": [
    "sdc_data.to_csv(folderPath + \"data_prepared.csv\")"
   ]
  }
 ],
 "metadata": {
  "kernelspec": {
   "display_name": "Python 3",
   "language": "python",
   "name": "python3"
  },
  "language_info": {
   "codemirror_mode": {
    "name": "ipython",
    "version": 3
   },
   "file_extension": ".py",
   "mimetype": "text/x-python",
   "name": "python",
   "nbconvert_exporter": "python",
   "pygments_lexer": "ipython3",
   "version": "3.7.4"
  },
  "pycharm": {
   "stem_cell": {
    "cell_type": "raw",
    "metadata": {
     "collapsed": false
    },
    "source": []
   }
  }
 },
 "nbformat": 4,
 "nbformat_minor": 1
}
